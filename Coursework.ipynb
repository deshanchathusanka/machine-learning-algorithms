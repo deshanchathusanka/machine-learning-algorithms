{
  "cells": [
    {
      "cell_type": "markdown",
      "metadata": {
        "id": "view-in-github",
        "colab_type": "text"
      },
      "source": [
        "<a href=\"https://colab.research.google.com/github/deshanchathusanka/machine-learning-algorithms/blob/main/Coursework.ipynb\" target=\"_parent\"><img src=\"https://colab.research.google.com/assets/colab-badge.svg\" alt=\"Open In Colab\"/></a>"
      ]
    },
    {
      "cell_type": "code",
      "execution_count": 2,
      "metadata": {
        "colab": {
          "base_uri": "https://localhost:8080/"
        },
        "id": "juTnNzAGG3Ka",
        "outputId": "dd8b14f3-01f5-4225-c605-bf0a42555a4f"
      },
      "outputs": [
        {
          "output_type": "stream",
          "name": "stdout",
          "text": [
            "Drive already mounted at /content/drive; to attempt to forcibly remount, call drive.mount(\"/content/drive\", force_remount=True).\n",
            "ln: failed to create symbolic link '/content/tstLabel_fine.npy': File exists\n",
            "ln: failed to create symbolic link '/content/tstLabel_coarse.npy': File exists\n",
            "ln: failed to create symbolic link '/content/tstImage.npy': File exists\n",
            "ln: failed to create symbolic link '/content/trnLabel_fine.npy': File exists\n",
            "ln: failed to create symbolic link '/content/trnLabel_coarse.npy': File exists\n",
            "ln: failed to create symbolic link '/content/trnImage.npy': File exists\n",
            "ln: failed to create symbolic link '/content/fine_labels.csv': File exists\n",
            "ln: failed to create symbolic link '/content/coarse_labels.csv': File exists\n",
            "ln: failed to create symbolic link '/content/x_train.npy': File exists\n",
            "ln: failed to create symbolic link '/content/x_test.npy': File exists\n"
          ]
        }
      ],
      "source": [
        "from google.colab import drive\n",
        "drive.mount('/content/drive')\n",
        "!ln -s \"/content/drive/My Drive/Academic/CSCM45J - Big Data & Machine Learning/coursework/tstLabel_fine.npy\" \"/content/\"\n",
        "!ln -s \"/content/drive/My Drive/Academic/CSCM45J - Big Data & Machine Learning/coursework/tstLabel_coarse.npy\" \"/content/\"\n",
        "!ln -s \"/content/drive/My Drive/Academic/CSCM45J - Big Data & Machine Learning/coursework/tstImage.npy\" \"/content/\"\n",
        "!ln -s \"/content/drive/My Drive/Academic/CSCM45J - Big Data & Machine Learning/coursework/trnLabel_fine.npy\" \"/content/\"\n",
        "!ln -s \"/content/drive/My Drive/Academic/CSCM45J - Big Data & Machine Learning/coursework/trnLabel_coarse.npy\" \"/content/\"\n",
        "!ln -s \"/content/drive/My Drive/Academic/CSCM45J - Big Data & Machine Learning/coursework/trnImage.npy\" \"/content/\"\n",
        "!ln -s \"/content/drive/My Drive/Academic/CSCM45J - Big Data & Machine Learning/coursework/fine_labels.csv\" \"/content/\"\n",
        "!ln -s \"/content/drive/My Drive/Academic/CSCM45J - Big Data & Machine Learning/coursework/coarse_labels.csv\" \"/content/\"\n",
        "!ln -s \"/content/drive/My Drive/Academic/CSCM45J - Big Data & Machine Learning/coursework/x_train.npy\" \"/content/\"\n",
        "!ln -s \"/content/drive/My Drive/Academic/CSCM45J - Big Data & Machine Learning/coursework/x_test.npy\" \"/content/\""
      ]
    },
    {
      "cell_type": "markdown",
      "metadata": {
        "id": "IGZGUZ17xSNZ"
      },
      "source": [
        "**Import Statements**"
      ]
    },
    {
      "cell_type": "code",
      "execution_count": 3,
      "metadata": {
        "id": "-Q_eQ0pAIRB1"
      },
      "outputs": [],
      "source": [
        "import numpy as np\n",
        "import matplotlib.pyplot as plt\n",
        "import skimage.feature\n",
        "import pandas as pd\n",
        "from sklearn.preprocessing import StandardScaler\n",
        "\n",
        "############### Dimensionality Reduction ################\n",
        "from sklearn.decomposition import PCA\n",
        "from bisect import bisect_left\n",
        "\n",
        "\n",
        "############## Support Vector Machine ###################\n",
        "from sklearn.svm import SVC\n",
        "from sklearn.model_selection import StratifiedKFold\n",
        "\n",
        "############## Convolutional Neural Network #########################\n",
        "import tensorflow as tf\n",
        "from tensorflow.keras.models import Sequential\n",
        "from tensorflow import keras\n",
        "from tensorflow.keras import layers\n",
        "from keras.layers import Dense, Dropout, Conv2D, MaxPool2D, Flatten"
      ]
    },
    {
      "cell_type": "markdown",
      "metadata": {
        "id": "MnwFj7f6xVhp"
      },
      "source": [
        "**Review Dataset and Labels**"
      ]
    },
    {
      "cell_type": "code",
      "execution_count": 4,
      "metadata": {
        "colab": {
          "base_uri": "https://localhost:8080/",
          "height": 422
        },
        "id": "xHqG7IkMm-1F",
        "outputId": "1314a465-0799-48cb-c9da-763b7c69a3a5"
      },
      "outputs": [
        {
          "output_type": "stream",
          "name": "stdout",
          "text": [
            "Number of Fine Labels(Class) : (100,)\n",
            "Number of Coarse Labels(Super Class) : (20,)\n",
            "\n",
            "Shape of Original Images : (32, 32, 3, 50000)\n",
            "Shape of Fine Labels : (50000,)\n",
            "Shape of Coarse Labels : (50000,)\n",
            "\n"
          ]
        },
        {
          "output_type": "display_data",
          "data": {
            "text/plain": [
              "<Figure size 432x288 with 1 Axes>"
            ],
            "image/png": "[encoded data removed]"
          },
          "metadata": {
            "needs_background": "light"
          }
        },
        {
          "output_type": "stream",
          "name": "stdout",
          "text": [
            "Fine Label : cattle\n",
            "Coarse Label : large omnivores and herbivores\n"
          ]
        }
      ],
      "source": [
        "images = np.load('./trnImage.npy')\n",
        "images_test = np.load('./tstImage.npy')\n",
        "\n",
        "label_fine = np.load('./trnLabel_fine.npy')\n",
        "label_coarse = np.load('./trnLabel_coarse.npy')\n",
        "label_fine_test = np.load('./tstLabel_fine.npy')\n",
        "label_coarse_test = np.load('./tstLabel_coarse.npy')\n",
        "label_fine_names = pd.read_csv(\"fine_labels.csv\", header=None, delimiter=',').iloc[0]\n",
        "label_coarse_names = pd.read_csv(\"coarse_labels.csv\", header=None, delimiter=',').iloc[0]\n",
        "\n",
        "############## shapes of dataset ###################\n",
        "print(f'Number of Fine Labels(Class) : {label_fine_names.shape}')\n",
        "print(f'Number of Coarse Labels(Super Class) : {label_coarse_names.shape}\\n')\n",
        "print(f'Shape of Original Images : {images.shape}') # (Height, Width, Channel, Samples)\n",
        "print(f'Shape of Fine Labels : {label_fine.shape}')\n",
        "print(f'Shape of Coarse Labels : {label_coarse.shape}\\n')\n",
        "\n",
        "############# understand dataset content ###############\n",
        "img_index = 0\n",
        "image = images[:,:,:,img_index]\n",
        "plt.figure()\n",
        "plt.imshow(image)\n",
        "plt.show()\n",
        "label_fine_name = label_fine_names[label_fine[img_index]]\n",
        "label_course_name = label_coarse_names[label_coarse[img_index]]\n",
        "print(f'Fine Label : {label_fine_name}')\n",
        "print(f'Coarse Label : {label_course_name}')"
      ]
    },
    {
      "cell_type": "markdown",
      "metadata": {
        "id": "ptA90jsFximZ"
      },
      "source": [
        "**Manual Feature Extraction Using HOG (Histogram of Oriented Gradient)**"
      ]
    },
    {
      "cell_type": "code",
      "execution_count": 5,
      "metadata": {
        "colab": {
          "base_uri": "https://localhost:8080/",
          "height": 532
        },
        "id": "DUVnJUhXxnIB",
        "outputId": "0571d23e-68a6-4251-9c28-e36500570068"
      },
      "outputs": [
        {
          "output_type": "display_data",
          "data": {
            "text/plain": [
              "<Figure size 432x288 with 1 Axes>"
            ],
            "image/png": "[encoded data removed]"
          },
          "metadata": {
            "needs_background": "light"
          }
        },
        {
          "output_type": "stream",
          "name": "stdout",
          "text": [
            "Number of Hog Feature : (576,)\n"
          ]
        },
        {
          "output_type": "display_data",
          "data": {
            "text/plain": [
              "<Figure size 432x288 with 1 Axes>"
            ],
            "image/png": "[encoded data removed]"
          },
          "metadata": {
            "needs_background": "light"
          }
        }
      ],
      "source": [
        "NO_TRAIN_SAMPLE = 50000\n",
        "NO_TEST_SAMPLE = 10000\n",
        "NO_OF_FEATURE = 576\n",
        "\n",
        "########################### manually extract features of images and store in a file ###############################\n",
        "image = images[:, :, :, 0]\n",
        "plt.figure()\n",
        "plt.imshow(image)\n",
        "plt.show()\n",
        "hog_feature, hog_image = skimage.feature.hog(image, pixels_per_cell=[6,6], cells_per_block=[2,2], visualize=True)\n",
        "print(f'Number of Hog Feature : {hog_feature.shape}')\n",
        "plt.figure()\n",
        "plt.imshow(hog_image)\n",
        "plt.show()\n",
        "\n",
        "# x_train = np.empty(shape = (NO_TRAIN_SAMPLE, NO_OF_FEATURE))\n",
        "# for index in range(0, NO_TRAIN_SAMPLE): # Training images\n",
        "#   image = images[:, :, :, index]\n",
        "#   hog_feature = skimage.feature.hog(image, pixels_per_cell=[6,6], cells_per_block=[2,2], visualize=False)\n",
        "#   x_train[index] = hog_feature\n",
        "# np.save(file = 'x_train.py', arr = x_train)\n",
        "\n",
        "# x_test = np.empty(shape = (NO_TEST_SAMPLE, NO_OF_FEATURE))\n",
        "# for index in range(0, NO_TEST_SAMPLE): # Testing images\n",
        "#   image = images_test[:, :, :, index]\n",
        "#   hog_feature = skimage.feature.hog(image, pixels_per_cell=[6,6], cells_per_block=[2,2], visualize=False)\n",
        "#   x_test[index] = hog_feature\n",
        "# np.save(file = 'x_test.py', arr = x_test)\n"
      ]
    },
    {
      "cell_type": "code",
      "execution_count": 6,
      "metadata": {
        "colab": {
          "base_uri": "https://localhost:8080/"
        },
        "id": "EcG2lO41K3q4",
        "outputId": "1fbda154-7f00-49af-c023-6da59ee97a4c"
      },
      "outputs": [
        {
          "output_type": "stream",
          "name": "stdout",
          "text": [
            "Shape of X_Train : (50000, 576)\n",
            "Shape of X_Test : (10000, 576)\n",
            "Shape of mean of dataset : (576,)\n"
          ]
        }
      ],
      "source": [
        "############### load feature extracted training and testing dataset ##############\n",
        "x_train = np.load('./x_train.npy')\n",
        "x_test = np.load('./x_test.npy')\n",
        "y_train = label_fine\n",
        "y_test_coarse = label_coarse_test\n",
        "y_train_coarse = label_coarse\n",
        "y_test = label_fine_test\n",
        "print(f'Shape of X_Train : {x_train.shape}')\n",
        "print(f'Shape of X_Test : {x_test.shape}')\n",
        "\n",
        "###############Data standardization #################\n",
        "scaler = StandardScaler()\n",
        "# Calculate mean and variance of each feature for further pre-processing\n",
        "scaler.fit(X = x_train, y = y_train) \n",
        "print(f'Shape of mean of dataset : {scaler.mean_.shape}') # (13,)\n",
        "# Standardize data (Centering and Scaling)\n",
        "x_train_standard = scaler.transform(X = x_train)\n",
        "x_test_standard = scaler.transform(X = x_test)\n"
      ]
    },
    {
      "cell_type": "markdown",
      "metadata": {
        "id": "9zlyaLn1tMDM"
      },
      "source": [
        "**Dimensionality Reduction**\n",
        "\n",
        " \n",
        " The main purpose of applying dimensionality reduction is to extract small number of new features(priciple components) that can explain more than 90% of total varience of original data."
      ]
    },
    {
      "cell_type": "code",
      "execution_count": 7,
      "metadata": {
        "colab": {
          "base_uri": "https://localhost:8080/",
          "height": 300
        },
        "id": "porzNemitLJX",
        "outputId": "d7262022-c694-41af-966f-451ffb045005"
      },
      "outputs": [
        {
          "output_type": "stream",
          "name": "stdout",
          "text": [
            "Number of priciple components required to achieve 90% of total varience : 157\n"
          ]
        },
        {
          "output_type": "display_data",
          "data": {
            "text/plain": [
              "<Figure size 432x288 with 1 Axes>"
            ],
            "image/png": "[encoded data removed]"
          },
          "metadata": {
            "needs_background": "light"
          }
        }
      ],
      "source": [
        "pca = PCA().fit(x_train_standard)\n",
        "singular_values = pca.explained_variance_\n",
        "right_singular_vectors = pca.components_\n",
        "singular_values_normalized = singular_values/sum(singular_values)\n",
        "\n",
        "cum_sum_var = np.cumsum(singular_values_normalized)\n",
        "num_components_90 = bisect_left(cum_sum_var, 0.9) + 1\n",
        "print(f'Number of priciple components required to achieve 90% of total varience : {num_components_90}')\n",
        "\n",
        "plt.figure()\n",
        "plt.scatter(x = range(1, len(singular_values)+1), y = cum_sum_var*100)\n",
        "plt.xlabel(xlabel = \"Number of Principle Components\")\n",
        "plt.ylabel(ylabel = \"Propotion of Varience Explained (PVE)\")\n",
        "plt.ylim([85,100])\n",
        "plt.xlim([100,200])\n",
        "plt.show()\n"
      ]
    },
    {
      "cell_type": "code",
      "execution_count": 8,
      "metadata": {
        "colab": {
          "base_uri": "https://localhost:8080/"
        },
        "id": "mOdcnj3ez5v3",
        "outputId": "f27c5847-8a21-409d-beec-49cdbbbd4b2b"
      },
      "outputs": [
        {
          "output_type": "stream",
          "name": "stdout",
          "text": [
            "(50000, 157)\n"
          ]
        }
      ],
      "source": [
        "x_train_standard_reduced = pca.transform(X = x_train_standard)[:, 0: 157]\n",
        "x_test_standard_reduced = pca.transform(X = x_test_standard)[:, 0: 157]\n",
        "\n",
        "print(x_train_standard_reduced.shape)"
      ]
    },
    {
      "cell_type": "markdown",
      "metadata": {
        "id": "XcXNtFtvnT8Q"
      },
      "source": [
        "**Support Vector Machine**\n",
        "\n",
        "\n",
        "* Features = HoG(Image) = 576\n",
        "\n",
        "* Input = (50000, 576) = (Samples, Features)\n",
        "\n",
        "* Output = (50000, 1)"
      ]
    },
    {
      "cell_type": "code",
      "source": [
        "############################ Kernal selection : K-Fold cross validation ################################\n",
        "def select_kernal(k, candidate_kernels, x_train, y_train, base_model) :\n",
        "\n",
        "  model_fold_accuracy_map = []\n",
        "  skf = StratifiedKFold(n_splits = k)\n",
        "  for (train_index, val_index) in skf.split(X = x_train, y = y_train) :\n",
        "    x_train_i, x_val_i = x_train[train_index], x_train[val_index]\n",
        "    y_train_i, y_val_i = y_train[train_index], y_train[val_index]\n",
        "\n",
        "    kernal_accuracy_i = []\n",
        "    for kernel in candidate_kernels : \n",
        "      clf_param = dict(kernel = kernel)\n",
        "      base_model.set_params(**clf_param)\n",
        "\n",
        "      base_model.fit(X = x_train_i, y = y_train_i) \n",
        "      accuracy = base_model.score(X = x_val_i, y = y_val_i)\n",
        "      kernal_accuracy_i.append(accuracy)\n",
        "    model_fold_accuracy_map.append(kernal_accuracy_i)\n",
        "\n",
        "  model_fold_accuracy_map = np.array(model_fold_accuracy_map)\n",
        "  model_accuracy_list = np.sum(model_fold_accuracy_map, axis = 0)\n",
        "\n",
        "  best_model_index = np.max(model_accuracy_list, axis = 0)\n",
        "  best_kernel = candidate_kernels[best_model_index]\n",
        "\n",
        "  return best_kernel"
      ],
      "metadata": {
        "id": "hz_g67X1VF8b"
      },
      "execution_count": null,
      "outputs": []
    },
    {
      "cell_type": "code",
      "execution_count": null,
      "metadata": {
        "id": "LDsEhqstnTVg"
      },
      "outputs": [],
      "source": [
        "###################Train Support Vector Machine Classifier #########################\n",
        "svc = SVC(C = 15, kernel = 'linear') \n",
        "\n",
        "candidate_kernels = ['linear', 'poly', 'rbf']\n",
        "k = 3\n",
        "# selected_kernel = select_kernal(k, candidate_kernels, x_train_standard_reduced[0:10000,:], y_train_coarse[0:10000], svc)\n",
        "# print(select_kernal)\n",
        "# clf_param = dict(kernel = selected_kernel)\n",
        "# svc.set_params(**clf_param)\n",
        "\n",
        "svc.fit(X = x_train_standard_reduced, y = y_train_coarse) \n",
        "accuracy = svc.score(X = x_test_standard_reduced, y = y_test_coarse)\n",
        "print(accuracy)\n"
      ]
    },
    {
      "cell_type": "markdown",
      "metadata": {
        "id": "iNGFNYw7M_kV"
      },
      "source": [
        "**Convolution Neural Network (CNN)**\n",
        "\n",
        "Input = (50000, 32, 32, 3) = (Samples, Height, Width, Channel)\n"
      ]
    },
    {
      "cell_type": "code",
      "execution_count": 11,
      "metadata": {
        "id": "90onr0MtHFmS",
        "colab": {
          "base_uri": "https://localhost:8080/",
          "height": 1000
        },
        "outputId": "407aa9c5-3368-4260-df57-0f7a008019c7"
      },
      "outputs": [
        {
          "output_type": "stream",
          "name": "stdout",
          "text": [
            "(50000, 32, 32, 3)\n",
            "(10000, 32, 32, 3)\n",
            "Model: \"sequential_2\"\n",
            "_________________________________________________________________\n",
            " Layer (type)                Output Shape              Param #   \n",
            "=================================================================\n",
            " conv2d_10 (Conv2D)          (None, 32, 32, 256)       3328      \n",
            "                                                                 \n",
            " conv2d_11 (Conv2D)          (None, 32, 32, 256)       262400    \n",
            "                                                                 \n",
            " max_pooling2d_4 (MaxPooling  (None, 16, 16, 256)      0         \n",
            " 2D)                                                             \n",
            "                                                                 \n",
            " conv2d_12 (Conv2D)          (None, 16, 16, 512)       524800    \n",
            "                                                                 \n",
            " conv2d_13 (Conv2D)          (None, 16, 16, 512)       1049088   \n",
            "                                                                 \n",
            " max_pooling2d_5 (MaxPooling  (None, 8, 8, 512)        0         \n",
            " 2D)                                                             \n",
            "                                                                 \n",
            " conv2d_14 (Conv2D)          (None, 8, 8, 1024)        2098176   \n",
            "                                                                 \n",
            " conv2d_15 (Conv2D)          (None, 8, 8, 1024)        4195328   \n",
            "                                                                 \n",
            " conv2d_16 (Conv2D)          (None, 8, 8, 1024)        4195328   \n",
            "                                                                 \n",
            " max_pooling2d_6 (MaxPooling  (None, 4, 4, 1024)       0         \n",
            " 2D)                                                             \n",
            "                                                                 \n",
            " dropout_1 (Dropout)         (None, 4, 4, 1024)        0         \n",
            "                                                                 \n",
            " conv2d_17 (Conv2D)          (None, 4, 4, 2048)        8390656   \n",
            "                                                                 \n",
            " conv2d_18 (Conv2D)          (None, 4, 4, 2048)        16779264  \n",
            "                                                                 \n",
            " conv2d_19 (Conv2D)          (None, 4, 4, 2048)        16779264  \n",
            "                                                                 \n",
            " max_pooling2d_7 (MaxPooling  (None, 2, 2, 2048)       0         \n",
            " 2D)                                                             \n",
            "                                                                 \n",
            " dropout_2 (Dropout)         (None, 2, 2, 2048)        0         \n",
            "                                                                 \n",
            " flatten_1 (Flatten)         (None, 8192)              0         \n",
            "                                                                 \n",
            " dense_2 (Dense)             (None, 1000)              8193000   \n",
            "                                                                 \n",
            " dense_3 (Dense)             (None, 100)               100100    \n",
            "                                                                 \n",
            "=================================================================\n",
            "Total params: 62,570,732\n",
            "Trainable params: 62,570,732\n",
            "Non-trainable params: 0\n",
            "_________________________________________________________________\n",
            "Epoch 1/50\n",
            "   9/1250 [..............................] - ETA: 3:43:48 - loss: 2036285.5000 - sparse_categorical_accuracy: 0.0556"
          ]
        },
        {
          "output_type": "error",
          "ename": "KeyboardInterrupt",
          "evalue": "ignored",
          "traceback": [
            "\u001b[0;31m---------------------------------------------------------------------------\u001b[0m",
            "\u001b[0;31mKeyboardInterrupt\u001b[0m                         Traceback (most recent call last)",
            "\u001b[0;32m<ipython-input-11-b1269f35df40>\u001b[0m in \u001b[0;36m<module>\u001b[0;34m()\u001b[0m\n\u001b[1;32m     62\u001b[0m \u001b[0;34m\u001b[0m\u001b[0m\n\u001b[1;32m     63\u001b[0m \u001b[0;31m################# Train The Model ######################\u001b[0m\u001b[0;34m\u001b[0m\u001b[0;34m\u001b[0m\u001b[0;34m\u001b[0m\u001b[0m\n\u001b[0;32m---> 64\u001b[0;31m \u001b[0mhistory\u001b[0m \u001b[0;34m=\u001b[0m \u001b[0mmodel\u001b[0m\u001b[0;34m.\u001b[0m\u001b[0mfit\u001b[0m\u001b[0;34m(\u001b[0m\u001b[0mx_cnn_train_norm\u001b[0m\u001b[0;34m,\u001b[0m \u001b[0my_train_coarse\u001b[0m\u001b[0;34m,\u001b[0m \u001b[0mepochs\u001b[0m\u001b[0;34m=\u001b[0m\u001b[0;36m50\u001b[0m\u001b[0;34m,\u001b[0m \u001b[0mvalidation_split\u001b[0m\u001b[0;34m=\u001b[0m\u001b[0;36m0.2\u001b[0m\u001b[0;34m,\u001b[0m \u001b[0mverbose\u001b[0m\u001b[0;34m=\u001b[0m\u001b[0;36m1\u001b[0m\u001b[0;34m)\u001b[0m\u001b[0;34m\u001b[0m\u001b[0;34m\u001b[0m\u001b[0m\n\u001b[0m\u001b[1;32m     65\u001b[0m \u001b[0;34m\u001b[0m\u001b[0m\n\u001b[1;32m     66\u001b[0m \u001b[0;31m################ Plot Accuracy And Loss Curves ################\u001b[0m\u001b[0;34m\u001b[0m\u001b[0;34m\u001b[0m\u001b[0;34m\u001b[0m\u001b[0m\n",
            "\u001b[0;32m/usr/local/lib/python3.7/dist-packages/keras/utils/traceback_utils.py\u001b[0m in \u001b[0;36merror_handler\u001b[0;34m(*args, **kwargs)\u001b[0m\n\u001b[1;32m     62\u001b[0m     \u001b[0mfiltered_tb\u001b[0m \u001b[0;34m=\u001b[0m \u001b[0;32mNone\u001b[0m\u001b[0;34m\u001b[0m\u001b[0;34m\u001b[0m\u001b[0m\n\u001b[1;32m     63\u001b[0m     \u001b[0;32mtry\u001b[0m\u001b[0;34m:\u001b[0m\u001b[0;34m\u001b[0m\u001b[0;34m\u001b[0m\u001b[0m\n\u001b[0;32m---> 64\u001b[0;31m       \u001b[0;32mreturn\u001b[0m \u001b[0mfn\u001b[0m\u001b[0;34m(\u001b[0m\u001b[0;34m*\u001b[0m\u001b[0margs\u001b[0m\u001b[0;34m,\u001b[0m \u001b[0;34m**\u001b[0m\u001b[0mkwargs\u001b[0m\u001b[0;34m)\u001b[0m\u001b[0;34m\u001b[0m\u001b[0;34m\u001b[0m\u001b[0m\n\u001b[0m\u001b[1;32m     65\u001b[0m     \u001b[0;32mexcept\u001b[0m \u001b[0mException\u001b[0m \u001b[0;32mas\u001b[0m \u001b[0me\u001b[0m\u001b[0;34m:\u001b[0m  \u001b[0;31m# pylint: disable=broad-except\u001b[0m\u001b[0;34m\u001b[0m\u001b[0;34m\u001b[0m\u001b[0m\n\u001b[1;32m     66\u001b[0m       \u001b[0mfiltered_tb\u001b[0m \u001b[0;34m=\u001b[0m \u001b[0m_process_traceback_frames\u001b[0m\u001b[0;34m(\u001b[0m\u001b[0me\u001b[0m\u001b[0;34m.\u001b[0m\u001b[0m__traceback__\u001b[0m\u001b[0;34m)\u001b[0m\u001b[0;34m\u001b[0m\u001b[0;34m\u001b[0m\u001b[0m\n",
            "\u001b[0;32m/usr/local/lib/python3.7/dist-packages/keras/engine/training.py\u001b[0m in \u001b[0;36mfit\u001b[0;34m(self, x, y, batch_size, epochs, verbose, callbacks, validation_split, validation_data, shuffle, class_weight, sample_weight, initial_epoch, steps_per_epoch, validation_steps, validation_batch_size, validation_freq, max_queue_size, workers, use_multiprocessing)\u001b[0m\n\u001b[1;32m   1382\u001b[0m                 _r=1):\n\u001b[1;32m   1383\u001b[0m               \u001b[0mcallbacks\u001b[0m\u001b[0;34m.\u001b[0m\u001b[0mon_train_batch_begin\u001b[0m\u001b[0;34m(\u001b[0m\u001b[0mstep\u001b[0m\u001b[0;34m)\u001b[0m\u001b[0;34m\u001b[0m\u001b[0;34m\u001b[0m\u001b[0m\n\u001b[0;32m-> 1384\u001b[0;31m               \u001b[0mtmp_logs\u001b[0m \u001b[0;34m=\u001b[0m \u001b[0mself\u001b[0m\u001b[0;34m.\u001b[0m\u001b[0mtrain_function\u001b[0m\u001b[0;34m(\u001b[0m\u001b[0miterator\u001b[0m\u001b[0;34m)\u001b[0m\u001b[0;34m\u001b[0m\u001b[0;34m\u001b[0m\u001b[0m\n\u001b[0m\u001b[1;32m   1385\u001b[0m               \u001b[0;32mif\u001b[0m \u001b[0mdata_handler\u001b[0m\u001b[0;34m.\u001b[0m\u001b[0mshould_sync\u001b[0m\u001b[0;34m:\u001b[0m\u001b[0;34m\u001b[0m\u001b[0;34m\u001b[0m\u001b[0m\n\u001b[1;32m   1386\u001b[0m                 \u001b[0mcontext\u001b[0m\u001b[0;34m.\u001b[0m\u001b[0masync_wait\u001b[0m\u001b[0;34m(\u001b[0m\u001b[0;34m)\u001b[0m\u001b[0;34m\u001b[0m\u001b[0;34m\u001b[0m\u001b[0m\n",
            "\u001b[0;32m/usr/local/lib/python3.7/dist-packages/tensorflow/python/util/traceback_utils.py\u001b[0m in \u001b[0;36merror_handler\u001b[0;34m(*args, **kwargs)\u001b[0m\n\u001b[1;32m    148\u001b[0m     \u001b[0mfiltered_tb\u001b[0m \u001b[0;34m=\u001b[0m \u001b[0;32mNone\u001b[0m\u001b[0;34m\u001b[0m\u001b[0;34m\u001b[0m\u001b[0m\n\u001b[1;32m    149\u001b[0m     \u001b[0;32mtry\u001b[0m\u001b[0;34m:\u001b[0m\u001b[0;34m\u001b[0m\u001b[0;34m\u001b[0m\u001b[0m\n\u001b[0;32m--> 150\u001b[0;31m       \u001b[0;32mreturn\u001b[0m \u001b[0mfn\u001b[0m\u001b[0;34m(\u001b[0m\u001b[0;34m*\u001b[0m\u001b[0margs\u001b[0m\u001b[0;34m,\u001b[0m \u001b[0;34m**\u001b[0m\u001b[0mkwargs\u001b[0m\u001b[0;34m)\u001b[0m\u001b[0;34m\u001b[0m\u001b[0;34m\u001b[0m\u001b[0m\n\u001b[0m\u001b[1;32m    151\u001b[0m     \u001b[0;32mexcept\u001b[0m \u001b[0mException\u001b[0m \u001b[0;32mas\u001b[0m \u001b[0me\u001b[0m\u001b[0;34m:\u001b[0m\u001b[0;34m\u001b[0m\u001b[0;34m\u001b[0m\u001b[0m\n\u001b[1;32m    152\u001b[0m       \u001b[0mfiltered_tb\u001b[0m \u001b[0;34m=\u001b[0m \u001b[0m_process_traceback_frames\u001b[0m\u001b[0;34m(\u001b[0m\u001b[0me\u001b[0m\u001b[0;34m.\u001b[0m\u001b[0m__traceback__\u001b[0m\u001b[0;34m)\u001b[0m\u001b[0;34m\u001b[0m\u001b[0;34m\u001b[0m\u001b[0m\n",
            "\u001b[0;32m/usr/local/lib/python3.7/dist-packages/tensorflow/python/eager/def_function.py\u001b[0m in \u001b[0;36m__call__\u001b[0;34m(self, *args, **kwds)\u001b[0m\n\u001b[1;32m    913\u001b[0m \u001b[0;34m\u001b[0m\u001b[0m\n\u001b[1;32m    914\u001b[0m       \u001b[0;32mwith\u001b[0m \u001b[0mOptionalXlaContext\u001b[0m\u001b[0;34m(\u001b[0m\u001b[0mself\u001b[0m\u001b[0;34m.\u001b[0m\u001b[0m_jit_compile\u001b[0m\u001b[0;34m)\u001b[0m\u001b[0;34m:\u001b[0m\u001b[0;34m\u001b[0m\u001b[0;34m\u001b[0m\u001b[0m\n\u001b[0;32m--> 915\u001b[0;31m         \u001b[0mresult\u001b[0m \u001b[0;34m=\u001b[0m \u001b[0mself\u001b[0m\u001b[0;34m.\u001b[0m\u001b[0m_call\u001b[0m\u001b[0;34m(\u001b[0m\u001b[0;34m*\u001b[0m\u001b[0margs\u001b[0m\u001b[0;34m,\u001b[0m \u001b[0;34m**\u001b[0m\u001b[0mkwds\u001b[0m\u001b[0;34m)\u001b[0m\u001b[0;34m\u001b[0m\u001b[0;34m\u001b[0m\u001b[0m\n\u001b[0m\u001b[1;32m    916\u001b[0m \u001b[0;34m\u001b[0m\u001b[0m\n\u001b[1;32m    917\u001b[0m       \u001b[0mnew_tracing_count\u001b[0m \u001b[0;34m=\u001b[0m \u001b[0mself\u001b[0m\u001b[0;34m.\u001b[0m\u001b[0mexperimental_get_tracing_count\u001b[0m\u001b[0;34m(\u001b[0m\u001b[0;34m)\u001b[0m\u001b[0;34m\u001b[0m\u001b[0;34m\u001b[0m\u001b[0m\n",
            "\u001b[0;32m/usr/local/lib/python3.7/dist-packages/tensorflow/python/eager/def_function.py\u001b[0m in \u001b[0;36m_call\u001b[0;34m(self, *args, **kwds)\u001b[0m\n\u001b[1;32m    945\u001b[0m       \u001b[0;31m# In this case we have created variables on the first call, so we run the\u001b[0m\u001b[0;34m\u001b[0m\u001b[0;34m\u001b[0m\u001b[0;34m\u001b[0m\u001b[0m\n\u001b[1;32m    946\u001b[0m       \u001b[0;31m# defunned version which is guaranteed to never create variables.\u001b[0m\u001b[0;34m\u001b[0m\u001b[0;34m\u001b[0m\u001b[0;34m\u001b[0m\u001b[0m\n\u001b[0;32m--> 947\u001b[0;31m       \u001b[0;32mreturn\u001b[0m \u001b[0mself\u001b[0m\u001b[0;34m.\u001b[0m\u001b[0m_stateless_fn\u001b[0m\u001b[0;34m(\u001b[0m\u001b[0;34m*\u001b[0m\u001b[0margs\u001b[0m\u001b[0;34m,\u001b[0m \u001b[0;34m**\u001b[0m\u001b[0mkwds\u001b[0m\u001b[0;34m)\u001b[0m  \u001b[0;31m# pylint: disable=not-callable\u001b[0m\u001b[0;34m\u001b[0m\u001b[0;34m\u001b[0m\u001b[0m\n\u001b[0m\u001b[1;32m    948\u001b[0m     \u001b[0;32melif\u001b[0m \u001b[0mself\u001b[0m\u001b[0;34m.\u001b[0m\u001b[0m_stateful_fn\u001b[0m \u001b[0;32mis\u001b[0m \u001b[0;32mnot\u001b[0m \u001b[0;32mNone\u001b[0m\u001b[0;34m:\u001b[0m\u001b[0;34m\u001b[0m\u001b[0;34m\u001b[0m\u001b[0m\n\u001b[1;32m    949\u001b[0m       \u001b[0;31m# Release the lock early so that multiple threads can perform the call\u001b[0m\u001b[0;34m\u001b[0m\u001b[0;34m\u001b[0m\u001b[0;34m\u001b[0m\u001b[0m\n",
            "\u001b[0;32m/usr/local/lib/python3.7/dist-packages/tensorflow/python/eager/function.py\u001b[0m in \u001b[0;36m__call__\u001b[0;34m(self, *args, **kwargs)\u001b[0m\n\u001b[1;32m   2955\u001b[0m        filtered_flat_args) = self._maybe_define_function(args, kwargs)\n\u001b[1;32m   2956\u001b[0m     return graph_function._call_flat(\n\u001b[0;32m-> 2957\u001b[0;31m         filtered_flat_args, captured_inputs=graph_function.captured_inputs)  # pylint: disable=protected-access\n\u001b[0m\u001b[1;32m   2958\u001b[0m \u001b[0;34m\u001b[0m\u001b[0m\n\u001b[1;32m   2959\u001b[0m   \u001b[0;34m@\u001b[0m\u001b[0mproperty\u001b[0m\u001b[0;34m\u001b[0m\u001b[0;34m\u001b[0m\u001b[0m\n",
            "\u001b[0;32m/usr/local/lib/python3.7/dist-packages/tensorflow/python/eager/function.py\u001b[0m in \u001b[0;36m_call_flat\u001b[0;34m(self, args, captured_inputs, cancellation_manager)\u001b[0m\n\u001b[1;32m   1852\u001b[0m       \u001b[0;31m# No tape is watching; skip to running the function.\u001b[0m\u001b[0;34m\u001b[0m\u001b[0;34m\u001b[0m\u001b[0;34m\u001b[0m\u001b[0m\n\u001b[1;32m   1853\u001b[0m       return self._build_call_outputs(self._inference_function.call(\n\u001b[0;32m-> 1854\u001b[0;31m           ctx, args, cancellation_manager=cancellation_manager))\n\u001b[0m\u001b[1;32m   1855\u001b[0m     forward_backward = self._select_forward_and_backward_functions(\n\u001b[1;32m   1856\u001b[0m         \u001b[0margs\u001b[0m\u001b[0;34m,\u001b[0m\u001b[0;34m\u001b[0m\u001b[0;34m\u001b[0m\u001b[0m\n",
            "\u001b[0;32m/usr/local/lib/python3.7/dist-packages/tensorflow/python/eager/function.py\u001b[0m in \u001b[0;36mcall\u001b[0;34m(self, ctx, args, cancellation_manager)\u001b[0m\n\u001b[1;32m    502\u001b[0m               \u001b[0minputs\u001b[0m\u001b[0;34m=\u001b[0m\u001b[0margs\u001b[0m\u001b[0;34m,\u001b[0m\u001b[0;34m\u001b[0m\u001b[0;34m\u001b[0m\u001b[0m\n\u001b[1;32m    503\u001b[0m               \u001b[0mattrs\u001b[0m\u001b[0;34m=\u001b[0m\u001b[0mattrs\u001b[0m\u001b[0;34m,\u001b[0m\u001b[0;34m\u001b[0m\u001b[0;34m\u001b[0m\u001b[0m\n\u001b[0;32m--> 504\u001b[0;31m               ctx=ctx)\n\u001b[0m\u001b[1;32m    505\u001b[0m         \u001b[0;32melse\u001b[0m\u001b[0;34m:\u001b[0m\u001b[0;34m\u001b[0m\u001b[0;34m\u001b[0m\u001b[0m\n\u001b[1;32m    506\u001b[0m           outputs = execute.execute_with_cancellation(\n",
            "\u001b[0;32m/usr/local/lib/python3.7/dist-packages/tensorflow/python/eager/execute.py\u001b[0m in \u001b[0;36mquick_execute\u001b[0;34m(op_name, num_outputs, inputs, attrs, ctx, name)\u001b[0m\n\u001b[1;32m     53\u001b[0m     \u001b[0mctx\u001b[0m\u001b[0;34m.\u001b[0m\u001b[0mensure_initialized\u001b[0m\u001b[0;34m(\u001b[0m\u001b[0;34m)\u001b[0m\u001b[0;34m\u001b[0m\u001b[0;34m\u001b[0m\u001b[0m\n\u001b[1;32m     54\u001b[0m     tensors = pywrap_tfe.TFE_Py_Execute(ctx._handle, device_name, op_name,\n\u001b[0;32m---> 55\u001b[0;31m                                         inputs, attrs, num_outputs)\n\u001b[0m\u001b[1;32m     56\u001b[0m   \u001b[0;32mexcept\u001b[0m \u001b[0mcore\u001b[0m\u001b[0;34m.\u001b[0m\u001b[0m_NotOkStatusException\u001b[0m \u001b[0;32mas\u001b[0m \u001b[0me\u001b[0m\u001b[0;34m:\u001b[0m\u001b[0;34m\u001b[0m\u001b[0;34m\u001b[0m\u001b[0m\n\u001b[1;32m     57\u001b[0m     \u001b[0;32mif\u001b[0m \u001b[0mname\u001b[0m \u001b[0;32mis\u001b[0m \u001b[0;32mnot\u001b[0m \u001b[0;32mNone\u001b[0m\u001b[0;34m:\u001b[0m\u001b[0;34m\u001b[0m\u001b[0;34m\u001b[0m\u001b[0m\n",
            "\u001b[0;31mKeyboardInterrupt\u001b[0m: "
          ]
        }
      ],
      "source": [
        "################### Dimension of X = (S, H, W, C) = (Samples, Height, Width, Channel) ########################\n",
        "x_cnn_train = np.transpose(a = images, axes = (3,0,1,2))\n",
        "x_cnn_test = np.transpose(a = images_test, axes = (3,0,1,2))\n",
        "print(x_cnn_train.shape)\n",
        "print(x_cnn_test.shape)\n",
        "\n",
        "####################### Normalize Pixel Values ############################\n",
        "max_pixel_value = np.max(x_cnn_train)\n",
        "x_cnn_train_norm = x_cnn_train/max_pixel_value\n",
        "x_cnn_test_norm = x_cnn_test/max_pixel_value\n",
        "\n",
        "################### Define Image Sizes ##############################\n",
        "Image_Width = 32 # pixel width of image.\n",
        "Image_Height = 32 # pixel height of image.\n",
        "Image_Size = (Image_Width, Image_Height) # resolution of image.\n",
        "Image_Channels=3 # number of colour channels in images.\n",
        "\n",
        "######## Feature Extraction Layers = Convolutional-Subsampling Pairs (Increase number of feature maps for each subsequent pairs) #########\n",
        "# building a linear stack of layers with the sequential model\n",
        "model = Sequential()\n",
        "\n",
        "## 32\n",
        "model.add(Conv2D(256, kernel_size=(2,2), strides=(1,1), padding='same', activation='relu', input_shape=(32, 32, 3)))\n",
        "model.add(Conv2D(256, kernel_size=(2,2), strides=(1,1), padding='same', activation='relu'))\n",
        "model.add(MaxPool2D(pool_size=(2,2)))\n",
        "\n",
        "## 16\n",
        "model.add(Conv2D(512, kernel_size=(2,2), strides=(1,1), padding='same', activation='relu'))\n",
        "model.add(Conv2D(512, kernel_size=(2,2), strides=(1,1), padding='same', activation='relu'))\n",
        "model.add(MaxPool2D(pool_size=(2,2)))\n",
        "# model.add(Dropout(0.15))\n",
        "\n",
        "## 8\n",
        "model.add(Conv2D(1024, kernel_size=(2,2), strides=(1,1), padding='same', activation='relu'))\n",
        "model.add(Conv2D(1024, kernel_size=(2,2), strides=(1,1), padding='same', activation='relu'))\n",
        "model.add(Conv2D(1024, kernel_size=(2,2), strides=(1,1), padding='same', activation='relu'))\n",
        "model.add(MaxPool2D(pool_size=(2,2)))\n",
        "model.add(Dropout(0.20))\n",
        "\n",
        "## 4\n",
        "model.add(Conv2D(2048, kernel_size=(2,2), strides=(1,1), padding='same', activation='relu'))\n",
        "model.add(Conv2D(2048, kernel_size=(2,2), strides=(1,1), padding='same', activation='relu'))\n",
        "model.add(Conv2D(2048, kernel_size=(2,2), strides=(1,1), padding='same', activation='relu'))\n",
        "model.add(MaxPool2D(pool_size=(2,2)))\n",
        "model.add(Dropout(0.25))\n",
        "\n",
        "## 2\n",
        "#################### classification layers ############################\n",
        "model.add(Flatten())\n",
        "model.add(Dense(1000, activation='relu'))\n",
        "model.add(Dense(100, activation='softmax'))\n",
        "\n",
        "################### Build the model ######################\n",
        "amd_opt = keras.optimizers.Adam(learning_rate=0.01)\n",
        "model.compile(optimizer = amd_opt, # Strochastic Gradient Descent\n",
        "              loss=tf.keras.losses.SparseCategoricalCrossentropy(), # Cross Entrophy Function\n",
        "              metrics=tf.keras.metrics.SparseCategoricalAccuracy()) # Consider Model Accuracy\n",
        "\n",
        "################# Print The Summary #################\n",
        "model.summary()\n",
        "\n",
        "\n",
        "################# Train The Model ######################\n",
        "history = model.fit(x_cnn_train_norm, y_train_coarse, epochs=50, validation_split=0.2, verbose=1)\n",
        "\n",
        "################ Plot Accuracy And Loss Curves ################\n",
        "plt.figure(figsize=[10,5])\n",
        "plt.subplot(121)\n",
        "plt.plot(history.history['sparse_categorical_accuracy'])\n",
        "plt.plot(history.history['val_sparse_categorical_accuracy'])\n",
        "plt.xlabel('Epoch')\n",
        "plt.ylabel('Accuracy')\n",
        "plt.legend(['Training Accuracy',\n",
        "           'Validation Accuracy'])\n",
        "plt.title('Accuracy Curves')\n",
        "\n",
        "plt.subplot(122)\n",
        "plt.plot(history.history['loss'])\n",
        "plt.plot(history.history['val_loss'])\n",
        "plt.xlabel('Epoch')\n",
        "plt.ylabel('Loss')\n",
        "plt.legend(['Training Loss',\n",
        "           'Validation Loss'])\n",
        "plt.title('Loss Curves')\n",
        "plt.show()\n",
        "\n",
        "################# Predict labels from trained model ########################\n",
        "\"\"\" output = (10000, 100) \"\"\"\n",
        "# y_hat = model.predict(x_cnn_test_norm) \n",
        "\n",
        "################### Evaluate With Test Datatset ###########################\n",
        "results = model.evaluate(x_cnn_test_norm, y_test_coarse)\n",
        "print(f'Test set loss: {results[0]:0.2f}, test set accuracy: {results[1]*100:0.2f}%')\n",
        "\n",
        "################### Analyse Training Cureves ########################\n",
        "# print(y_test)\n",
        "# print(np.argmax(y_hat, axis=1))"
      ]
    },
    {
      "cell_type": "markdown",
      "source": [
        "**Transfer Learning With VGG-16**\n",
        "\n",
        "https://d2l.ai/chapter_convolutional-modern/vgg.html\n",
        "https://machinelearningmastery.com/\n",
        "\n",
        "how-to-develop-a-cnn-from-scratch-for-cifar-10-photo-classification/\n",
        "\n",
        "![vgg-16.png](data:image/png;base64,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)"
      ],
      "metadata": {
        "id": "62BcqfQhbUVg"
      }
    },
    {
      "cell_type": "code",
      "source": [
        "############################## Transfer Learning ######################################\n",
        "import tensorflow as tf\n",
        "from keras.layers import Input, Lambda, Dense, Flatten\n",
        "from keras.models import Model\n",
        "from keras.applications.vgg16 import VGG16\n",
        "from keras.applications.vgg16 import preprocess_input\n",
        "from keras.preprocessing import image\n",
        "from keras.preprocessing.image import ImageDataGenerator\n",
        "from keras.models import Sequential\n",
        "import numpy as np\n",
        "\n",
        "################### pre-process images ######################################\n",
        "x_cnn_train = np.transpose(a = images, axes = (3,0,1,2))\n",
        "x_cnn_test = np.transpose(a = images_test, axes = (3,0,1,2))\n",
        "print(x_cnn_train.shape)\n",
        "print(x_cnn_test.shape)\n",
        "\n",
        "####################### Normalize Pixel Values ############################\n",
        "max_pixel_value = np.max(x_cnn_train)\n",
        "x_cnn_train_norm = x_cnn_train/max_pixel_value\n",
        "x_cnn_test_norm = x_cnn_test/max_pixel_value\n",
        "\n",
        "\n",
        "####################### define transfer learning base model #################\n",
        "INPUT_IMAGE_SIZE = [32, 32, 3]\n",
        "\n",
        "vgg_16 = VGG16(\n",
        "    include_top = False, #### remove top(Dense) layers \n",
        "    weights = \"imagenet\",\n",
        "    input_shape = INPUT_IMAGE_SIZE\n",
        ")\n",
        "vgg_16.trainable = False #### avoid retrain the feature extraction layers\n",
        "\n",
        "########### feature extraction layers ###############\n",
        "model = Sequential()\n",
        "model.add(vgg_16)\n",
        "\n",
        "########### classification layers ##################\n",
        "model.add(Flatten())\n",
        "model.add(Dense(500, activation='relu'))\n",
        "model.add(Dense(100, activation='softmax'))\n",
        "\n",
        "################### Build the model ######################\n",
        "model.compile(optimizer=tf.keras.optimizers.SGD(), # Strochastic Gradient Descent\n",
        "              loss=tf.keras.losses.SparseCategoricalCrossentropy(), # Cross Entrophy Function\n",
        "              metrics=tf.keras.metrics.SparseCategoricalAccuracy()) # Consider Model Accuracy\n",
        "\n",
        "################# Print The Summary #################\n",
        "model.summary()\n",
        "\n",
        "################# Train The Model ######################\n",
        "history = model.fit(x_cnn_train_norm, y_train_coarse, epochs=100, validation_split=0.2, verbose=1)\n",
        "\n",
        "################ Plot Accuracy And Loss Curves ################\n",
        "plt.figure(figsize=[10,5])\n",
        "plt.subplot(121)\n",
        "plt.plot(history.history['sparse_categorical_accuracy'])\n",
        "plt.plot(history.history['val_sparse_categorical_accuracy'])\n",
        "plt.xlabel('Epoch')\n",
        "plt.ylabel('Accuracy')\n",
        "plt.legend(['Training Accuracy',\n",
        "           'Validation Accuracy'])\n",
        "plt.title('Accuracy Curves')\n",
        "\n",
        "plt.subplot(122)\n",
        "plt.plot(history.history['loss'])\n",
        "plt.plot(history.history['val_loss'])\n",
        "plt.xlabel('Epoch')\n",
        "plt.ylabel('Loss')\n",
        "plt.legend(['Training Loss',\n",
        "           'Validation Loss'])\n",
        "plt.title('Loss Curves')\n",
        "plt.show()\n",
        "\n"
      ],
      "metadata": {
        "colab": {
          "base_uri": "https://localhost:8080/",
          "height": 814
        },
        "id": "f4upbVlQOszJ",
        "outputId": "502a98b5-928d-49f4-c067-29bb52840818"
      },
      "execution_count": 9,
      "outputs": [
        {
          "output_type": "stream",
          "name": "stdout",
          "text": [
            "(50000, 32, 32, 3)\n",
            "(10000, 32, 32, 3)\n",
            "Model: \"sequential\"\n",
            "_________________________________________________________________\n",
            " Layer (type)                Output Shape              Param #   \n",
            "=================================================================\n",
            " vgg16 (Functional)          (None, 1, 1, 512)         14714688  \n",
            "                                                                 \n",
            " flatten (Flatten)           (None, 512)               0         \n",
            "                                                                 \n",
            " dense (Dense)               (None, 500)               256500    \n",
            "                                                                 \n",
            " dense_1 (Dense)             (None, 100)               50100     \n",
            "                                                                 \n",
            "=================================================================\n",
            "Total params: 15,021,288\n",
            "Trainable params: 306,600\n",
            "Non-trainable params: 14,714,688\n",
            "_________________________________________________________________\n",
            "Epoch 1/100\n",
            "1250/1250 [==============================] - 482s 385ms/step - loss: 2.4957 - sparse_categorical_accuracy: 0.2526 - val_loss: 2.2244 - val_sparse_categorical_accuracy: 0.3203\n",
            "Epoch 2/100\n",
            "1250/1250 [==============================] - 473s 379ms/step - loss: 2.1399 - sparse_categorical_accuracy: 0.3401 - val_loss: 2.0917 - val_sparse_categorical_accuracy: 0.3534\n",
            "Epoch 3/100\n",
            " 110/1250 [=>............................] - ETA: 5:50 - loss: 2.0649 - sparse_categorical_accuracy: 0.3548"
          ]
        },
        {
          "output_type": "error",
          "ename": "KeyboardInterrupt",
          "evalue": "ignored",
          "traceback": [
            "\u001b[0;31m---------------------------------------------------------------------------\u001b[0m",
            "\u001b[0;31mKeyboardInterrupt\u001b[0m                         Traceback (most recent call last)",
            "\u001b[0;32m<ipython-input-9-160887e3170e>\u001b[0m in \u001b[0;36m<module>\u001b[0;34m()\u001b[0m\n\u001b[1;32m     50\u001b[0m \u001b[0;34m\u001b[0m\u001b[0m\n\u001b[1;32m     51\u001b[0m \u001b[0;31m################# Train The Model ######################\u001b[0m\u001b[0;34m\u001b[0m\u001b[0;34m\u001b[0m\u001b[0;34m\u001b[0m\u001b[0m\n\u001b[0;32m---> 52\u001b[0;31m \u001b[0mhistory\u001b[0m \u001b[0;34m=\u001b[0m \u001b[0mmodel\u001b[0m\u001b[0;34m.\u001b[0m\u001b[0mfit\u001b[0m\u001b[0;34m(\u001b[0m\u001b[0mx_cnn_train_norm\u001b[0m\u001b[0;34m,\u001b[0m \u001b[0my_train_coarse\u001b[0m\u001b[0;34m,\u001b[0m \u001b[0mepochs\u001b[0m\u001b[0;34m=\u001b[0m\u001b[0;36m100\u001b[0m\u001b[0;34m,\u001b[0m \u001b[0mvalidation_split\u001b[0m\u001b[0;34m=\u001b[0m\u001b[0;36m0.2\u001b[0m\u001b[0;34m,\u001b[0m \u001b[0mverbose\u001b[0m\u001b[0;34m=\u001b[0m\u001b[0;36m1\u001b[0m\u001b[0;34m)\u001b[0m\u001b[0;34m\u001b[0m\u001b[0;34m\u001b[0m\u001b[0m\n\u001b[0m\u001b[1;32m     53\u001b[0m \u001b[0;34m\u001b[0m\u001b[0m\n\u001b[1;32m     54\u001b[0m \u001b[0;31m################ Plot Accuracy And Loss Curves ################\u001b[0m\u001b[0;34m\u001b[0m\u001b[0;34m\u001b[0m\u001b[0;34m\u001b[0m\u001b[0m\n",
            "\u001b[0;32m/usr/local/lib/python3.7/dist-packages/keras/utils/traceback_utils.py\u001b[0m in \u001b[0;36merror_handler\u001b[0;34m(*args, **kwargs)\u001b[0m\n\u001b[1;32m     62\u001b[0m     \u001b[0mfiltered_tb\u001b[0m \u001b[0;34m=\u001b[0m \u001b[0;32mNone\u001b[0m\u001b[0;34m\u001b[0m\u001b[0;34m\u001b[0m\u001b[0m\n\u001b[1;32m     63\u001b[0m     \u001b[0;32mtry\u001b[0m\u001b[0;34m:\u001b[0m\u001b[0;34m\u001b[0m\u001b[0;34m\u001b[0m\u001b[0m\n\u001b[0;32m---> 64\u001b[0;31m       \u001b[0;32mreturn\u001b[0m \u001b[0mfn\u001b[0m\u001b[0;34m(\u001b[0m\u001b[0;34m*\u001b[0m\u001b[0margs\u001b[0m\u001b[0;34m,\u001b[0m \u001b[0;34m**\u001b[0m\u001b[0mkwargs\u001b[0m\u001b[0;34m)\u001b[0m\u001b[0;34m\u001b[0m\u001b[0;34m\u001b[0m\u001b[0m\n\u001b[0m\u001b[1;32m     65\u001b[0m     \u001b[0;32mexcept\u001b[0m \u001b[0mException\u001b[0m \u001b[0;32mas\u001b[0m \u001b[0me\u001b[0m\u001b[0;34m:\u001b[0m  \u001b[0;31m# pylint: disable=broad-except\u001b[0m\u001b[0;34m\u001b[0m\u001b[0;34m\u001b[0m\u001b[0m\n\u001b[1;32m     66\u001b[0m       \u001b[0mfiltered_tb\u001b[0m \u001b[0;34m=\u001b[0m \u001b[0m_process_traceback_frames\u001b[0m\u001b[0;34m(\u001b[0m\u001b[0me\u001b[0m\u001b[0;34m.\u001b[0m\u001b[0m__traceback__\u001b[0m\u001b[0;34m)\u001b[0m\u001b[0;34m\u001b[0m\u001b[0;34m\u001b[0m\u001b[0m\n",
            "\u001b[0;32m/usr/local/lib/python3.7/dist-packages/keras/engine/training.py\u001b[0m in \u001b[0;36mfit\u001b[0;34m(self, x, y, batch_size, epochs, verbose, callbacks, validation_split, validation_data, shuffle, class_weight, sample_weight, initial_epoch, steps_per_epoch, validation_steps, validation_batch_size, validation_freq, max_queue_size, workers, use_multiprocessing)\u001b[0m\n\u001b[1;32m   1382\u001b[0m                 _r=1):\n\u001b[1;32m   1383\u001b[0m               \u001b[0mcallbacks\u001b[0m\u001b[0;34m.\u001b[0m\u001b[0mon_train_batch_begin\u001b[0m\u001b[0;34m(\u001b[0m\u001b[0mstep\u001b[0m\u001b[0;34m)\u001b[0m\u001b[0;34m\u001b[0m\u001b[0;34m\u001b[0m\u001b[0m\n\u001b[0;32m-> 1384\u001b[0;31m               \u001b[0mtmp_logs\u001b[0m \u001b[0;34m=\u001b[0m \u001b[0mself\u001b[0m\u001b[0;34m.\u001b[0m\u001b[0mtrain_function\u001b[0m\u001b[0;34m(\u001b[0m\u001b[0miterator\u001b[0m\u001b[0;34m)\u001b[0m\u001b[0;34m\u001b[0m\u001b[0;34m\u001b[0m\u001b[0m\n\u001b[0m\u001b[1;32m   1385\u001b[0m               \u001b[0;32mif\u001b[0m \u001b[0mdata_handler\u001b[0m\u001b[0;34m.\u001b[0m\u001b[0mshould_sync\u001b[0m\u001b[0;34m:\u001b[0m\u001b[0;34m\u001b[0m\u001b[0;34m\u001b[0m\u001b[0m\n\u001b[1;32m   1386\u001b[0m                 \u001b[0mcontext\u001b[0m\u001b[0;34m.\u001b[0m\u001b[0masync_wait\u001b[0m\u001b[0;34m(\u001b[0m\u001b[0;34m)\u001b[0m\u001b[0;34m\u001b[0m\u001b[0;34m\u001b[0m\u001b[0m\n",
            "\u001b[0;32m/usr/local/lib/python3.7/dist-packages/tensorflow/python/util/traceback_utils.py\u001b[0m in \u001b[0;36merror_handler\u001b[0;34m(*args, **kwargs)\u001b[0m\n\u001b[1;32m    148\u001b[0m     \u001b[0mfiltered_tb\u001b[0m \u001b[0;34m=\u001b[0m \u001b[0;32mNone\u001b[0m\u001b[0;34m\u001b[0m\u001b[0;34m\u001b[0m\u001b[0m\n\u001b[1;32m    149\u001b[0m     \u001b[0;32mtry\u001b[0m\u001b[0;34m:\u001b[0m\u001b[0;34m\u001b[0m\u001b[0;34m\u001b[0m\u001b[0m\n\u001b[0;32m--> 150\u001b[0;31m       \u001b[0;32mreturn\u001b[0m \u001b[0mfn\u001b[0m\u001b[0;34m(\u001b[0m\u001b[0;34m*\u001b[0m\u001b[0margs\u001b[0m\u001b[0;34m,\u001b[0m \u001b[0;34m**\u001b[0m\u001b[0mkwargs\u001b[0m\u001b[0;34m)\u001b[0m\u001b[0;34m\u001b[0m\u001b[0;34m\u001b[0m\u001b[0m\n\u001b[0m\u001b[1;32m    151\u001b[0m     \u001b[0;32mexcept\u001b[0m \u001b[0mException\u001b[0m \u001b[0;32mas\u001b[0m \u001b[0me\u001b[0m\u001b[0;34m:\u001b[0m\u001b[0;34m\u001b[0m\u001b[0;34m\u001b[0m\u001b[0m\n\u001b[1;32m    152\u001b[0m       \u001b[0mfiltered_tb\u001b[0m \u001b[0;34m=\u001b[0m \u001b[0m_process_traceback_frames\u001b[0m\u001b[0;34m(\u001b[0m\u001b[0me\u001b[0m\u001b[0;34m.\u001b[0m\u001b[0m__traceback__\u001b[0m\u001b[0;34m)\u001b[0m\u001b[0;34m\u001b[0m\u001b[0;34m\u001b[0m\u001b[0m\n",
            "\u001b[0;32m/usr/local/lib/python3.7/dist-packages/tensorflow/python/eager/def_function.py\u001b[0m in \u001b[0;36m__call__\u001b[0;34m(self, *args, **kwds)\u001b[0m\n\u001b[1;32m    913\u001b[0m \u001b[0;34m\u001b[0m\u001b[0m\n\u001b[1;32m    914\u001b[0m       \u001b[0;32mwith\u001b[0m \u001b[0mOptionalXlaContext\u001b[0m\u001b[0;34m(\u001b[0m\u001b[0mself\u001b[0m\u001b[0;34m.\u001b[0m\u001b[0m_jit_compile\u001b[0m\u001b[0;34m)\u001b[0m\u001b[0;34m:\u001b[0m\u001b[0;34m\u001b[0m\u001b[0;34m\u001b[0m\u001b[0m\n\u001b[0;32m--> 915\u001b[0;31m         \u001b[0mresult\u001b[0m \u001b[0;34m=\u001b[0m \u001b[0mself\u001b[0m\u001b[0;34m.\u001b[0m\u001b[0m_call\u001b[0m\u001b[0;34m(\u001b[0m\u001b[0;34m*\u001b[0m\u001b[0margs\u001b[0m\u001b[0;34m,\u001b[0m \u001b[0;34m**\u001b[0m\u001b[0mkwds\u001b[0m\u001b[0;34m)\u001b[0m\u001b[0;34m\u001b[0m\u001b[0;34m\u001b[0m\u001b[0m\n\u001b[0m\u001b[1;32m    916\u001b[0m \u001b[0;34m\u001b[0m\u001b[0m\n\u001b[1;32m    917\u001b[0m       \u001b[0mnew_tracing_count\u001b[0m \u001b[0;34m=\u001b[0m \u001b[0mself\u001b[0m\u001b[0;34m.\u001b[0m\u001b[0mexperimental_get_tracing_count\u001b[0m\u001b[0;34m(\u001b[0m\u001b[0;34m)\u001b[0m\u001b[0;34m\u001b[0m\u001b[0;34m\u001b[0m\u001b[0m\n",
            "\u001b[0;32m/usr/local/lib/python3.7/dist-packages/tensorflow/python/eager/def_function.py\u001b[0m in \u001b[0;36m_call\u001b[0;34m(self, *args, **kwds)\u001b[0m\n\u001b[1;32m    945\u001b[0m       \u001b[0;31m# In this case we have created variables on the first call, so we run the\u001b[0m\u001b[0;34m\u001b[0m\u001b[0;34m\u001b[0m\u001b[0;34m\u001b[0m\u001b[0m\n\u001b[1;32m    946\u001b[0m       \u001b[0;31m# defunned version which is guaranteed to never create variables.\u001b[0m\u001b[0;34m\u001b[0m\u001b[0;34m\u001b[0m\u001b[0;34m\u001b[0m\u001b[0m\n\u001b[0;32m--> 947\u001b[0;31m       \u001b[0;32mreturn\u001b[0m \u001b[0mself\u001b[0m\u001b[0;34m.\u001b[0m\u001b[0m_stateless_fn\u001b[0m\u001b[0;34m(\u001b[0m\u001b[0;34m*\u001b[0m\u001b[0margs\u001b[0m\u001b[0;34m,\u001b[0m \u001b[0;34m**\u001b[0m\u001b[0mkwds\u001b[0m\u001b[0;34m)\u001b[0m  \u001b[0;31m# pylint: disable=not-callable\u001b[0m\u001b[0;34m\u001b[0m\u001b[0;34m\u001b[0m\u001b[0m\n\u001b[0m\u001b[1;32m    948\u001b[0m     \u001b[0;32melif\u001b[0m \u001b[0mself\u001b[0m\u001b[0;34m.\u001b[0m\u001b[0m_stateful_fn\u001b[0m \u001b[0;32mis\u001b[0m \u001b[0;32mnot\u001b[0m \u001b[0;32mNone\u001b[0m\u001b[0;34m:\u001b[0m\u001b[0;34m\u001b[0m\u001b[0;34m\u001b[0m\u001b[0m\n\u001b[1;32m    949\u001b[0m       \u001b[0;31m# Release the lock early so that multiple threads can perform the call\u001b[0m\u001b[0;34m\u001b[0m\u001b[0;34m\u001b[0m\u001b[0;34m\u001b[0m\u001b[0m\n",
            "\u001b[0;32m/usr/local/lib/python3.7/dist-packages/tensorflow/python/eager/function.py\u001b[0m in \u001b[0;36m__call__\u001b[0;34m(self, *args, **kwargs)\u001b[0m\n\u001b[1;32m   2955\u001b[0m        filtered_flat_args) = self._maybe_define_function(args, kwargs)\n\u001b[1;32m   2956\u001b[0m     return graph_function._call_flat(\n\u001b[0;32m-> 2957\u001b[0;31m         filtered_flat_args, captured_inputs=graph_function.captured_inputs)  # pylint: disable=protected-access\n\u001b[0m\u001b[1;32m   2958\u001b[0m \u001b[0;34m\u001b[0m\u001b[0m\n\u001b[1;32m   2959\u001b[0m   \u001b[0;34m@\u001b[0m\u001b[0mproperty\u001b[0m\u001b[0;34m\u001b[0m\u001b[0;34m\u001b[0m\u001b[0m\n",
            "\u001b[0;32m/usr/local/lib/python3.7/dist-packages/tensorflow/python/eager/function.py\u001b[0m in \u001b[0;36m_call_flat\u001b[0;34m(self, args, captured_inputs, cancellation_manager)\u001b[0m\n\u001b[1;32m   1852\u001b[0m       \u001b[0;31m# No tape is watching; skip to running the function.\u001b[0m\u001b[0;34m\u001b[0m\u001b[0;34m\u001b[0m\u001b[0;34m\u001b[0m\u001b[0m\n\u001b[1;32m   1853\u001b[0m       return self._build_call_outputs(self._inference_function.call(\n\u001b[0;32m-> 1854\u001b[0;31m           ctx, args, cancellation_manager=cancellation_manager))\n\u001b[0m\u001b[1;32m   1855\u001b[0m     forward_backward = self._select_forward_and_backward_functions(\n\u001b[1;32m   1856\u001b[0m         \u001b[0margs\u001b[0m\u001b[0;34m,\u001b[0m\u001b[0;34m\u001b[0m\u001b[0;34m\u001b[0m\u001b[0m\n",
            "\u001b[0;32m/usr/local/lib/python3.7/dist-packages/tensorflow/python/eager/function.py\u001b[0m in \u001b[0;36mcall\u001b[0;34m(self, ctx, args, cancellation_manager)\u001b[0m\n\u001b[1;32m    502\u001b[0m               \u001b[0minputs\u001b[0m\u001b[0;34m=\u001b[0m\u001b[0margs\u001b[0m\u001b[0;34m,\u001b[0m\u001b[0;34m\u001b[0m\u001b[0;34m\u001b[0m\u001b[0m\n\u001b[1;32m    503\u001b[0m               \u001b[0mattrs\u001b[0m\u001b[0;34m=\u001b[0m\u001b[0mattrs\u001b[0m\u001b[0;34m,\u001b[0m\u001b[0;34m\u001b[0m\u001b[0;34m\u001b[0m\u001b[0m\n\u001b[0;32m--> 504\u001b[0;31m               ctx=ctx)\n\u001b[0m\u001b[1;32m    505\u001b[0m         \u001b[0;32melse\u001b[0m\u001b[0;34m:\u001b[0m\u001b[0;34m\u001b[0m\u001b[0;34m\u001b[0m\u001b[0m\n\u001b[1;32m    506\u001b[0m           outputs = execute.execute_with_cancellation(\n",
            "\u001b[0;32m/usr/local/lib/python3.7/dist-packages/tensorflow/python/eager/execute.py\u001b[0m in \u001b[0;36mquick_execute\u001b[0;34m(op_name, num_outputs, inputs, attrs, ctx, name)\u001b[0m\n\u001b[1;32m     53\u001b[0m     \u001b[0mctx\u001b[0m\u001b[0;34m.\u001b[0m\u001b[0mensure_initialized\u001b[0m\u001b[0;34m(\u001b[0m\u001b[0;34m)\u001b[0m\u001b[0;34m\u001b[0m\u001b[0;34m\u001b[0m\u001b[0m\n\u001b[1;32m     54\u001b[0m     tensors = pywrap_tfe.TFE_Py_Execute(ctx._handle, device_name, op_name,\n\u001b[0;32m---> 55\u001b[0;31m                                         inputs, attrs, num_outputs)\n\u001b[0m\u001b[1;32m     56\u001b[0m   \u001b[0;32mexcept\u001b[0m \u001b[0mcore\u001b[0m\u001b[0;34m.\u001b[0m\u001b[0m_NotOkStatusException\u001b[0m \u001b[0;32mas\u001b[0m \u001b[0me\u001b[0m\u001b[0;34m:\u001b[0m\u001b[0;34m\u001b[0m\u001b[0;34m\u001b[0m\u001b[0m\n\u001b[1;32m     57\u001b[0m     \u001b[0;32mif\u001b[0m \u001b[0mname\u001b[0m \u001b[0;32mis\u001b[0m \u001b[0;32mnot\u001b[0m \u001b[0;32mNone\u001b[0m\u001b[0;34m:\u001b[0m\u001b[0;34m\u001b[0m\u001b[0;34m\u001b[0m\u001b[0m\n",
            "\u001b[0;31mKeyboardInterrupt\u001b[0m: "
          ]
        }
      ]
    }
  ],
  "metadata": {
    "colab": {
      "collapsed_sections": [],
      "name": "Coursework.ipynb",
      "provenance": [],
      "authorship_tag": "ABX9TyOnxlWTHlBiK4yw9eeMWFOQ",
      "include_colab_link": true
    },
    "kernelspec": {
      "display_name": "Python 3",
      "name": "python3"
    },
    "language_info": {
      "name": "python"
    }
  },
  "nbformat": 4,
  "nbformat_minor": 0
}
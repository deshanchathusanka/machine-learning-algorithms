{
  "nbformat": 4,
  "nbformat_minor": 0,
  "metadata": {
    "colab": {
      "name": "Coursework.ipynb",
      "provenance": [],
      "collapsed_sections": [],
      "authorship_tag": "ABX9TyPmRxYS72YwcL72/fhpISny",
      "include_colab_link": true
    },
    "kernelspec": {
      "name": "python3",
      "display_name": "Python 3"
    },
    "language_info": {
      "name": "python"
    }
  },
  "cells": [
    {
      "cell_type": "markdown",
      "metadata": {
        "id": "view-in-github",
        "colab_type": "text"
      },
      "source": [
        "<a href=\"https://colab.research.google.com/github/deshanchathusanka/machine-learning-algorithms/blob/main/Coursework.ipynb\" target=\"_parent\"><img src=\"https://colab.research.google.com/assets/colab-badge.svg\" alt=\"Open In Colab\"/></a>"
      ]
    },
    {
      "cell_type": "code",
      "execution_count": 2,
      "metadata": {
        "colab": {
          "base_uri": "https://localhost:8080/"
        },
        "id": "juTnNzAGG3Ka",
        "outputId": "9cd1dfdf-821d-4523-85ff-b162bf4ff6e6"
      },
      "outputs": [
        {
          "output_type": "stream",
          "name": "stdout",
          "text": [
            "Mounted at /content/drive\n"
          ]
        }
      ],
      "source": [
        "from google.colab import drive\n",
        "drive.mount('/content/drive')\n",
        "!ln -s \"/content/drive/My Drive/Academic/CSCM45J - Big Data & Machine Learning/coursework/tstLabel_fine.npy\" \"/content/\"\n",
        "!ln -s \"/content/drive/My Drive/Academic/CSCM45J - Big Data & Machine Learning/coursework/tstLabel_coarse.npy\" \"/content/\"\n",
        "!ln -s \"/content/drive/My Drive/Academic/CSCM45J - Big Data & Machine Learning/coursework/tstImage.npy\" \"/content/\"\n",
        "!ln -s \"/content/drive/My Drive/Academic/CSCM45J - Big Data & Machine Learning/coursework/trnLabel_fine.npy\" \"/content/\"\n",
        "!ln -s \"/content/drive/My Drive/Academic/CSCM45J - Big Data & Machine Learning/coursework/trnLabel_coarse.npy\" \"/content/\"\n",
        "!ln -s \"/content/drive/My Drive/Academic/CSCM45J - Big Data & Machine Learning/coursework/trnImage.npy\" \"/content/\"\n",
        "!ln -s \"/content/drive/My Drive/Academic/CSCM45J - Big Data & Machine Learning/coursework/fine_labels.csv\" \"/content/\"\n",
        "!ln -s \"/content/drive/My Drive/Academic/CSCM45J - Big Data & Machine Learning/coursework/coarse_labels.csv\" \"/content/\"\n",
        "!ln -s \"/content/drive/My Drive/Academic/CSCM45J - Big Data & Machine Learning/coursework/x_train.npy\" \"/content/\"\n",
        "!ln -s \"/content/drive/My Drive/Academic/CSCM45J - Big Data & Machine Learning/coursework/x_test.npy\" \"/content/\""
      ]
    },
    {
      "cell_type": "markdown",
      "source": [
        "**Import Statements**"
      ],
      "metadata": {
        "id": "IGZGUZ17xSNZ"
      }
    },
    {
      "cell_type": "code",
      "source": [
        "import numpy as np\n",
        "import matplotlib.pyplot as plt\n",
        "import skimage.feature\n",
        "import pandas as pd\n",
        "from sklearn.preprocessing import StandardScaler\n",
        "\n",
        "from sklearn.svm import SVC\n",
        "\n",
        "import tensorflow as tf\n",
        "from tensorflow.keras.models import Sequential\n",
        "from tensorflow.keras.layers import Conv2D,MaxPooling2D,\\\n",
        "     Dropout,Flatten,Dense,Activation,\\\n",
        "     BatchNormalization"
      ],
      "metadata": {
        "id": "-Q_eQ0pAIRB1"
      },
      "execution_count": 14,
      "outputs": []
    },
    {
      "cell_type": "markdown",
      "source": [
        "**Review Dataset and Labels**"
      ],
      "metadata": {
        "id": "MnwFj7f6xVhp"
      }
    },
    {
      "cell_type": "code",
      "source": [
        "images = np.load('./trnImage.npy')\n",
        "images_test = np.load('./tstImage.npy')\n",
        "\n",
        "label_fine = np.load('./trnLabel_fine.npy')\n",
        "label_coarse = np.load('./trnLabel_coarse.npy')\n",
        "label_fine_test = np.load('./tstLabel_fine.npy')\n",
        "label_coarse_test = np.load('./tstLabel_coarse.npy')\n",
        "label_fine_names = pd.read_csv(\"fine_labels.csv\", header=None, delimiter=',').iloc[0]\n",
        "label_coarse_names = pd.read_csv(\"coarse_labels.csv\", header=None, delimiter=',').iloc[0]\n",
        "\n",
        "############## shapes of dataset ###################\n",
        "print(f'Number of Fine Labels(Class) : {label_fine_names.shape}')\n",
        "print(f'Number of Coarse Labels(Super Class) : {label_coarse_names.shape}\\n')\n",
        "print(f'Shape of Original Images : {images.shape}') # (Height, Width, Channel, Samples)\n",
        "print(f'Shape of Fine Labels : {label_fine.shape}')\n",
        "print(f'Shape of Coarse Labels : {label_coarse.shape}\\n')\n",
        "\n",
        "############# understand dataset content ###############\n",
        "img_index = 0\n",
        "image = images[:,:,:,img_index]\n",
        "plt.figure()\n",
        "plt.imshow(image)\n",
        "plt.show()\n",
        "label_fine_name = label_fine_names[label_fine[img_index]]\n",
        "label_course_name = label_coarse_names[label_coarse[img_index]]\n",
        "print(f'Fine Label : {label_fine_name}')\n",
        "print(f'Coarse Label : {label_course_name}')"
      ],
      "metadata": {
        "colab": {
          "base_uri": "https://localhost:8080/",
          "height": 422
        },
        "id": "xHqG7IkMm-1F",
        "outputId": "03652aa7-4050-44a2-805b-e790f517a048"
      },
      "execution_count": 11,
      "outputs": [
        {
          "output_type": "stream",
          "name": "stdout",
          "text": [
            "Number of Fine Labels(Class) : (100,)\n",
            "Number of Coarse Labels(Super Class) : (20,)\n",
            "\n",
            "Shape of Original Images : (32, 32, 3, 50000)\n",
            "Shape of Fine Labels : (50000,)\n",
            "Shape of Coarse Labels : (50000,)\n",
            "\n"
          ]
        },
        {
          "output_type": "display_data",
          "data": {
            "text/plain": [
              "<Figure size 432x288 with 1 Axes>"
            ],
            "image/png": "[encoded data removed]"
          },
          "metadata": {
            "needs_background": "light"
          }
        },
        {
          "output_type": "stream",
          "name": "stdout",
          "text": [
            "Fine Label : cattle\n",
            "Coarse Label : large omnivores and herbivores\n"
          ]
        }
      ]
    },
    {
      "cell_type": "markdown",
      "source": [
        "**Manual Feature Extraction Using HOG (Histogram of Oriented Gradient)**"
      ],
      "metadata": {
        "id": "ptA90jsFximZ"
      }
    },
    {
      "cell_type": "code",
      "source": [
        "NO_TRAIN_SAMPLE = 50000\n",
        "NO_TEST_SAMPLE = 10000\n",
        "NO_OF_FEATURE = 576\n",
        "\n",
        "########################### manually extract features of images and store in a file ###############################\n",
        "image = images[:, :, :, 0]\n",
        "plt.figure()\n",
        "plt.imshow(image)\n",
        "plt.show()\n",
        "hog_feature, hog_image = skimage.feature.hog(image, pixels_per_cell=[6,6], cells_per_block=[2,2], visualize=True)\n",
        "print(f'Number of Hog Feature : {hog_feature.shape}')\n",
        "plt.figure()\n",
        "plt.imshow(hog_image)\n",
        "plt.show()\n",
        "\n",
        "# x_train = np.empty(shape = (NO_TRAIN_SAMPLE, NO_OF_FEATURE))\n",
        "# for index in range(0, NO_TRAIN_SAMPLE): # Training images\n",
        "#   image = images[:, :, :, index]\n",
        "#   hog_feature = skimage.feature.hog(image, pixels_per_cell=[6,6], cells_per_block=[2,2], visualize=False)\n",
        "#   x_train[index] = hog_feature\n",
        "# np.save(file = 'x_train.py', arr = x_train)\n",
        "\n",
        "# x_test = np.empty(shape = (NO_TEST_SAMPLE, NO_OF_FEATURE))\n",
        "# for index in range(0, NO_TEST_SAMPLE): # Testing images\n",
        "#   image = images_test[:, :, :, index]\n",
        "#   hog_feature = skimage.feature.hog(image, pixels_per_cell=[6,6], cells_per_block=[2,2], visualize=False)\n",
        "#   x_test[index] = hog_feature\n",
        "# np.save(file = 'x_test.py', arr = x_test)\n"
      ],
      "metadata": {
        "colab": {
          "base_uri": "https://localhost:8080/",
          "height": 532
        },
        "id": "DUVnJUhXxnIB",
        "outputId": "16e8e768-1e00-4c84-ecd9-3834cb2dda5d"
      },
      "execution_count": 5,
      "outputs": [
        {
          "output_type": "display_data",
          "data": {
            "text/plain": [
              "<Figure size 432x288 with 1 Axes>"
            ],
            "image/png": "[encoded data removed]"
          },
          "metadata": {
            "needs_background": "light"
          }
        },
        {
          "output_type": "stream",
          "name": "stdout",
          "text": [
            "Number of Hog Feature : (576,)\n"
          ]
        },
        {
          "output_type": "display_data",
          "data": {
            "text/plain": [
              "<Figure size 432x288 with 1 Axes>"
            ],
            "image/png": "[encoded data removed]"
          },
          "metadata": {
            "needs_background": "light"
          }
        }
      ]
    },
    {
      "cell_type": "code",
      "source": [
        "############### load feature extracted training and testing dataset ##############\n",
        "x_train = np.load('./x_train.npy')\n",
        "x_test = np.load('./x_test.npy')\n",
        "y_train = label_fine\n",
        "y_test = label_fine_test\n",
        "print(f'Shape of X_Train : {x_train.shape}')\n",
        "print(f'Shape of X_Test : {x_test.shape}')\n",
        "\n",
        "###############Data standardization #################\n",
        "scaler = StandardScaler()\n",
        "# Calculate mean and variance of each feature for further pre-processing\n",
        "scaler.fit(X = x_train, y = y_train) \n",
        "print(f'Shape of mean of dataset : {scaler.mean_.shape}') # (13,)\n",
        "# Standardize data (Centering and Scaling)\n",
        "x_train_standard = scaler.transform(X = x_train)\n",
        "x_test_standard = scaler.transform(X = x_test)\n"
      ],
      "metadata": {
        "colab": {
          "base_uri": "https://localhost:8080/"
        },
        "id": "EcG2lO41K3q4",
        "outputId": "5ea4caea-dab2-4688-ddad-55ae073d51ea"
      },
      "execution_count": 6,
      "outputs": [
        {
          "output_type": "stream",
          "name": "stdout",
          "text": [
            "Shape of X_Train : (50000, 576)\n",
            "Shape of X_Test : (10000, 576)\n",
            "Shape of mean of dataset : (576,)\n"
          ]
        }
      ]
    },
    {
      "cell_type": "markdown",
      "source": [
        "**Support Vector Machine**\n",
        "\n",
        "\n",
        "* Features = HoG(Image) = 576\n",
        "\n",
        "* Input = (50000, 576) = (Samples, Features)\n",
        "\n",
        "* Output = (50000, 1)"
      ],
      "metadata": {
        "id": "XcXNtFtvnT8Q"
      }
    },
    {
      "cell_type": "code",
      "source": [
        "\"\"\" Train Support Vector Machine Classifier \"\"\"\n",
        "\n",
        "cross_validation_c = {}\n",
        "for c in range(1,2) :\n",
        "  svc = SVC(C = c, kernel = 'rbf') # Kernel = Radial Basis Function Kernel(Gaussian Kernel)\n",
        "  # Train the model using training data\n",
        "  svc.fit(X = x_train_standard, y = y_train) \n",
        "  # Predict labels from trained model\n",
        "  y_hat = svc.predict(X = x_test_standard)\n",
        "  # Calculate accuracy\n",
        "  accuracy = svc.score(X = x_test_standard, y = y_test)\n",
        "  cross_validation_c[c] = accuracy\n",
        "\n",
        "print(cross_validation_c)"
      ],
      "metadata": {
        "id": "LDsEhqstnTVg",
        "colab": {
          "base_uri": "https://localhost:8080/"
        },
        "outputId": "f77e693b-4178-42fe-ddcd-afbe893f2738"
      },
      "execution_count": 7,
      "outputs": [
        {
          "output_type": "stream",
          "name": "stdout",
          "text": [
            "{1: 0.283}\n"
          ]
        }
      ]
    },
    {
      "cell_type": "markdown",
      "source": [
        "**Convolution Neural Network (CNN)**\n",
        "\n",
        "Input = (50000, 32, 32, 3) = (Samples, Height, Width, Channel)\n"
      ],
      "metadata": {
        "id": "iNGFNYw7M_kV"
      }
    },
    {
      "cell_type": "code",
      "source": [
        "################### Dimension of X = (S, H, W, C) = (Samples, Height, Width, Channel) ########################\n",
        "x_cnn_train = np.transpose(a = images, axes = (3,0,1,2))\n",
        "x_cnn_test = np.transpose(a = images_test, axes = (3,0,1,2))\n",
        "print(x_cnn_train.shape)\n",
        "print(x_cnn_test.shape)\n",
        "\n",
        "####################### Normalize Pixel Values ############################\n",
        "max_pixel_value = np.max(x_cnn_train)\n",
        "x_cnn_train_norm = x_cnn_train/max_pixel_value\n",
        "x_cnn_test_norm = x_cnn_test/max_pixel_value\n",
        "\n",
        "################### Define Image Sizes ##############################\n",
        "Image_Width = 32 # pixel width of image.\n",
        "Image_Height = 32 # pixel height of image.\n",
        "Image_Size = (Image_Width, Image_Height) # resolution of image.\n",
        "Image_Channels=3 # number of colour channels in images.\n",
        "\n",
        "################# Define CNN Architecture : 2D CNN Layers ###################\n",
        "model = Sequential()\n",
        "\n",
        "######## Feature Extraction Layers = Convolutional-Subsampling Pairs (Increase number of feature maps for each subsequent pairs) #########\n",
        "\"\"\"\n",
        "1st hiden layer\n",
        "shape(input) = shape(output)\n",
        "kernal = (5,5)\n",
        "Number of filters = 24\n",
        "\"\"\"\n",
        "model.add(Conv2D(filters=24,kernel_size=5,strides=1,padding='same',activation='relu', input_shape=(Image_Width,Image_Height,Image_Channels))) \n",
        "model.add(MaxPooling2D(pool_size=(2,2)))\n",
        "\n",
        "\"\"\"\n",
        "2nd hiden layer\n",
        "shape(input) = shape(output)\n",
        "kernal = (5,5)\n",
        "Number of filters = 48\n",
        "\"\"\"\n",
        "model.add(Conv2D(filters=48,kernel_size=5,strides=1,padding='same',activation='relu')) # 2nd hiden layer\n",
        "model.add(MaxPooling2D(pool_size=(2,2)))\n",
        "\n",
        "\"\"\"\n",
        "output layer\n",
        "shape(input) = shape(output)\n",
        "kernal = (5,5)\n",
        "Number of filters = 96\n",
        "\"\"\"\n",
        "model.add(Conv2D(filters=96,kernel_size=5,strides=1,padding='same',activation='relu')) # output layer\n",
        "model.add(MaxPooling2D(pool_size=(2,2)))\n",
        "\n",
        "############### Classification Layers = Dense Layers ########################\n",
        "\"\"\" 3D Image(Width, Height, Filters) = (4, 4, 96) >> 1D = (1536, 1)\"\"\"\n",
        "model.add(Flatten()) \n",
        "\n",
        "\"\"\"\n",
        "Input = (1536, 1)\n",
        "Output = (256, 1)\n",
        "\"\"\"\n",
        "model.add(Dense(256,activation=tf.nn.relu))\n",
        "\n",
        "\"\"\"\n",
        "Input = (256, 1)\n",
        "Output = (10, 1)\n",
        "\"\"\"\n",
        "model.add(Dense(10,activation=tf.nn.softmax))\n",
        "\n",
        "# model.compile(optimizer=tf.keras.optimizers.SGD(), # Strochastic Gradient Descent\n",
        "#               loss=tf.keras.losses.SparseCategoricalCrossentropy(), # Cross Entrophy Function\n",
        "#               metrics=tf.keras.metrics.SparseCategoricalAccuracy()) # Consider Model Accuracy\n",
        "\n",
        "\n",
        "# \"\"\" Train The Model \"\"\"\n",
        "# history = model.fit(x_train_mnist_cnn_norm, y_train_mnist, epochs=5, validation_split=0.2, verbose=1)\n",
        "\n",
        "# \"\"\" Print The Summary \"\"\"\n",
        "# model.summary()\n",
        "\n",
        "# \"\"\"  Plot Accuracy And Loss Curves \"\"\"\n",
        "# plt.figure(figsize=[10,5])\n",
        "# plt.subplot(121)\n",
        "# plt.plot(history.history['sparse_categorical_accuracy'])\n",
        "# plt.plot(history.history['val_sparse_categorical_accuracy'])\n",
        "# plt.xlabel('Epoch')\n",
        "# plt.ylabel('Accuracy')\n",
        "# plt.legend(['Training Accuracy',\n",
        "#            'Validation Accuracy'])\n",
        "# plt.title('Accuracy Curves')\n",
        "\n",
        "# plt.subplot(122)\n",
        "# plt.plot(history.history['loss'])\n",
        "# plt.plot(history.history['val_loss'])\n",
        "# plt.xlabel('Epoch')\n",
        "# plt.ylabel('Loss')\n",
        "# plt.legend(['Training Loss',\n",
        "#            'Validation Loss'])\n",
        "# plt.title('Loss Curves')\n",
        "# plt.show()\n",
        "\n",
        "# # Predict labels from trained model\n",
        "# y_hat = model.predict(x_test_mnist_cnn_norm)\n",
        "\n",
        "# \"\"\" Evaluate With Test Datatset \"\"\"\n",
        "# results = model.evaluate(x_test_mnist_cnn_norm, y_test_mnist)\n",
        "# print(f'Test set loss: {results[0]:0.2f}, test set accuracy: {results[1]*100:0.2f}%')\n",
        "\n",
        "# \"\"\" Analyse Training Cureves \"\"\"\n",
        "# print(y_test_mnist)\n",
        "# print(np.argmax(y_hat, axis=1))"
      ],
      "metadata": {
        "colab": {
          "base_uri": "https://localhost:8080/"
        },
        "id": "90onr0MtHFmS",
        "outputId": "bf18fa34-5427-48fc-e8d6-b2aec7d4c3e0"
      },
      "execution_count": 13,
      "outputs": [
        {
          "output_type": "stream",
          "name": "stdout",
          "text": [
            "(50000, 32, 32, 3)\n",
            "(10000, 32, 32, 3)\n"
          ]
        }
      ]
    }
  ]
}
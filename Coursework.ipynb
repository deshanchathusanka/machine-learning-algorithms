{
  "cells": [
    {
      "cell_type": "markdown",
      "metadata": {
        "id": "view-in-github",
        "colab_type": "text"
      },
      "source": [
        "<a href=\"https://colab.research.google.com/github/deshanchathusanka/machine-learning-algorithms/blob/main/Coursework.ipynb\" target=\"_parent\"><img src=\"https://colab.research.google.com/assets/colab-badge.svg\" alt=\"Open In Colab\"/></a>"
      ]
    },
    {
      "cell_type": "code",
      "execution_count": null,
      "metadata": {
        "id": "juTnNzAGG3Ka",
        "colab": {
          "base_uri": "https://localhost:8080/"
        },
        "outputId": "f4033a4a-b852-4855-95f7-f7013d889efe"
      },
      "outputs": [
        {
          "output_type": "stream",
          "name": "stdout",
          "text": [
            "Drive already mounted at /content/drive; to attempt to forcibly remount, call drive.mount(\"/content/drive\", force_remount=True).\n",
            "ln: failed to create symbolic link '/content/tstLabel_fine.npy': File exists\n",
            "ln: failed to create symbolic link '/content/tstLabel_coarse.npy': File exists\n",
            "ln: failed to create symbolic link '/content/tstImage.npy': File exists\n",
            "ln: failed to create symbolic link '/content/trnLabel_fine.npy': File exists\n",
            "ln: failed to create symbolic link '/content/trnLabel_coarse.npy': File exists\n",
            "ln: failed to create symbolic link '/content/trnImage.npy': File exists\n",
            "ln: failed to create symbolic link '/content/fine_labels.csv': File exists\n",
            "ln: failed to create symbolic link '/content/coarse_labels.csv': File exists\n",
            "ln: failed to create symbolic link '/content/x_train.npy': File exists\n",
            "ln: failed to create symbolic link '/content/x_test.npy': File exists\n"
          ]
        }
      ],
      "source": [
        "from google.colab import drive\n",
        "drive.mount('/content/drive')\n",
        "!ln -s \"/content/drive/My Drive/Academic/CSCM45J - Big Data & Machine Learning/coursework/tstLabel_fine.npy\" \"/content/\"\n",
        "!ln -s \"/content/drive/My Drive/Academic/CSCM45J - Big Data & Machine Learning/coursework/tstLabel_coarse.npy\" \"/content/\"\n",
        "!ln -s \"/content/drive/My Drive/Academic/CSCM45J - Big Data & Machine Learning/coursework/tstImage.npy\" \"/content/\"\n",
        "!ln -s \"/content/drive/My Drive/Academic/CSCM45J - Big Data & Machine Learning/coursework/trnLabel_fine.npy\" \"/content/\"\n",
        "!ln -s \"/content/drive/My Drive/Academic/CSCM45J - Big Data & Machine Learning/coursework/trnLabel_coarse.npy\" \"/content/\"\n",
        "!ln -s \"/content/drive/My Drive/Academic/CSCM45J - Big Data & Machine Learning/coursework/trnImage.npy\" \"/content/\"\n",
        "!ln -s \"/content/drive/My Drive/Academic/CSCM45J - Big Data & Machine Learning/coursework/fine_labels.csv\" \"/content/\"\n",
        "!ln -s \"/content/drive/My Drive/Academic/CSCM45J - Big Data & Machine Learning/coursework/coarse_labels.csv\" \"/content/\"\n",
        "\n",
        "!ln -s \"/content/drive/My Drive/Academic/CSCM45J - Big Data & Machine Learning/coursework/x_train.npy\" \"/content/\"\n",
        "!ln -s \"/content/drive/My Drive/Academic/CSCM45J - Big Data & Machine Learning/coursework/x_test.npy\" \"/content/\""
      ]
    },
    {
      "cell_type": "code",
      "source": [
        "!pip install keras-tuner -q"
      ],
      "metadata": {
        "id": "3JKrZrrziRo_"
      },
      "execution_count": null,
      "outputs": []
    },
    {
      "cell_type": "markdown",
      "metadata": {
        "id": "IGZGUZ17xSNZ"
      },
      "source": [
        "**Import Statements**"
      ]
    },
    {
      "cell_type": "code",
      "execution_count": null,
      "metadata": {
        "id": "-Q_eQ0pAIRB1",
        "colab": {
          "base_uri": "https://localhost:8080/"
        },
        "outputId": "03aa1f8a-f128-4851-a6ac-ec393d5019cd"
      },
      "outputs": [
        {
          "output_type": "stream",
          "name": "stderr",
          "text": [
            "/usr/local/lib/python3.7/dist-packages/ipykernel_launcher.py:25: DeprecationWarning: `import kerastuner` is deprecated, please use `import keras_tuner`.\n"
          ]
        }
      ],
      "source": [
        "import numpy as np\n",
        "import matplotlib.pyplot as plt\n",
        "import skimage.feature\n",
        "import pandas as pd\n",
        "from sklearn.preprocessing import StandardScaler\n",
        "\n",
        "############### Dimensionality Reduction ################\n",
        "from sklearn.decomposition import PCA\n",
        "from bisect import bisect_left\n",
        "from sklearn.discriminant_analysis import LinearDiscriminantAnalysis\n",
        "\n",
        "\n",
        "############## Support Vector Machine ###################\n",
        "from sklearn.svm import SVC\n",
        "from sklearn.model_selection import StratifiedKFold\n",
        "\n",
        "############## Convolutional Neural Network #########################\n",
        "import tensorflow as tf\n",
        "from tensorflow.keras.models import Sequential\n",
        "from tensorflow import keras\n",
        "from tensorflow.keras import layers\n",
        "from keras.layers import Dense, Dropout, Conv2D, MaxPool2D, Flatten\n",
        "\n",
        "############## Hyperparameter tuning ######################\n",
        "from kerastuner.tuners import RandomSearch"
      ]
    },
    {
      "cell_type": "markdown",
      "metadata": {
        "id": "MnwFj7f6xVhp"
      },
      "source": [
        "**Review Dataset and Labels**"
      ]
    },
    {
      "cell_type": "code",
      "execution_count": null,
      "metadata": {
        "id": "xHqG7IkMm-1F",
        "colab": {
          "base_uri": "https://localhost:8080/",
          "height": 422
        },
        "outputId": "06b07d94-502d-45f4-ee22-e9122e6a3d59"
      },
      "outputs": [
        {
          "output_type": "stream",
          "name": "stdout",
          "text": [
            "Number of Fine Labels(Class) : (100,)\n",
            "Number of Coarse Labels(Super Class) : (20,)\n",
            "\n",
            "Shape of Original Images : (32, 32, 3, 50000)\n",
            "Shape of Fine Labels : (50000,)\n",
            "Shape of Coarse Labels : (50000,)\n",
            "\n"
          ]
        },
        {
          "output_type": "display_data",
          "data": {
            "text/plain": [
              "<Figure size 432x288 with 1 Axes>"
            ],
            "image/png": "[encoded data removed]"
          },
          "metadata": {
            "needs_background": "light"
          }
        },
        {
          "output_type": "stream",
          "name": "stdout",
          "text": [
            "Fine Label : cattle\n",
            "Coarse Label : large omnivores and herbivores\n"
          ]
        }
      ],
      "source": [
        "images = np.load('./trnImage.npy')\n",
        "images_test = np.load('./tstImage.npy')\n",
        "\n",
        "label_fine = np.load('./trnLabel_fine.npy')\n",
        "label_coarse = np.load('./trnLabel_coarse.npy')\n",
        "label_fine_test = np.load('./tstLabel_fine.npy')\n",
        "label_coarse_test = np.load('./tstLabel_coarse.npy')\n",
        "label_fine_names = pd.read_csv(\"fine_labels.csv\", header=None, delimiter=',').iloc[0]\n",
        "label_coarse_names = pd.read_csv(\"coarse_labels.csv\", header=None, delimiter=',').iloc[0]\n",
        "\n",
        "############## shapes of dataset ###################\n",
        "print(f'Number of Fine Labels(Class) : {label_fine_names.shape}')\n",
        "print(f'Number of Coarse Labels(Super Class) : {label_coarse_names.shape}\\n')\n",
        "print(f'Shape of Original Images : {images.shape}') # (Height, Width, Channel, Samples)\n",
        "print(f'Shape of Fine Labels : {label_fine.shape}')\n",
        "print(f'Shape of Coarse Labels : {label_coarse.shape}\\n')\n",
        "\n",
        "############# understand dataset content ###############\n",
        "img_index = 0\n",
        "image = images[:,:,:,img_index]\n",
        "plt.figure()\n",
        "plt.imshow(image)\n",
        "plt.show()\n",
        "label_fine_name = label_fine_names[label_fine[img_index]]\n",
        "label_course_name = label_coarse_names[label_coarse[img_index]]\n",
        "print(f'Fine Label : {label_fine_name}')\n",
        "print(f'Coarse Label : {label_course_name}')"
      ]
    },
    {
      "cell_type": "markdown",
      "metadata": {
        "id": "ptA90jsFximZ"
      },
      "source": [
        "**Manual Feature Extraction Using HOG (Histogram of Oriented Gradient)**"
      ]
    },
    {
      "cell_type": "code",
      "execution_count": null,
      "metadata": {
        "id": "DUVnJUhXxnIB",
        "colab": {
          "base_uri": "https://localhost:8080/",
          "height": 532
        },
        "outputId": "c4f0fe46-0364-40bd-ba91-654f49303a02"
      },
      "outputs": [
        {
          "output_type": "display_data",
          "data": {
            "text/plain": [
              "<Figure size 432x288 with 1 Axes>"
            ],
            "image/png": "[encoded data removed]"
          },
          "metadata": {
            "needs_background": "light"
          }
        },
        {
          "output_type": "stream",
          "name": "stdout",
          "text": [
            "Number of Hog Feature : (576,)\n"
          ]
        },
        {
          "output_type": "display_data",
          "data": {
            "text/plain": [
              "<Figure size 432x288 with 1 Axes>"
            ],
            "image/png": "[encoded data removed]"
          },
          "metadata": {
            "needs_background": "light"
          }
        }
      ],
      "source": [
        "NO_TRAIN_SAMPLE = 50000\n",
        "NO_TEST_SAMPLE = 10000\n",
        "NO_OF_FEATURE = 576\n",
        "NO_OF_FINE_CATEGORIES = 100\n",
        "NO_OF_COARSE_CATEGORIES = 100\n",
        "\n",
        "########################### manually extract features of images and store in a file ###############################\n",
        "image = images[:, :, :, 0]\n",
        "plt.figure()\n",
        "plt.imshow(image)\n",
        "plt.show()\n",
        "hog_feature, hog_image = skimage.feature.hog(image, pixels_per_cell=[6,6], cells_per_block=[2,2], visualize=True)\n",
        "print(f'Number of Hog Feature : {hog_feature.shape}')\n",
        "plt.figure()\n",
        "plt.imshow(hog_image)\n",
        "plt.show()\n",
        "\n",
        "# x_train = np.empty(shape = (NO_TRAIN_SAMPLE, NO_OF_FEATURE))\n",
        "# for index in range(0, NO_TRAIN_SAMPLE): # Training images\n",
        "#   image = images[:, :, :, index]\n",
        "#   hog_feature = skimage.feature.hog(image, pixels_per_cell=[6,6], cells_per_block=[2,2], visualize=False)\n",
        "#   x_train[index] = hog_feature\n",
        "# np.save(file = 'x_train.py', arr = x_train)\n",
        "\n",
        "# x_test = np.empty(shape = (NO_TEST_SAMPLE, NO_OF_FEATURE))\n",
        "# for index in range(0, NO_TEST_SAMPLE): # Testing images\n",
        "#   image = images_test[:, :, :, index]\n",
        "#   hog_feature = skimage.feature.hog(image, pixels_per_cell=[6,6], cells_per_block=[2,2], visualize=False)\n",
        "#   x_test[index] = hog_feature\n",
        "# np.save(file = 'x_test.py', arr = x_test)\n",
        "\n"
      ]
    },
    {
      "cell_type": "code",
      "execution_count": null,
      "metadata": {
        "id": "EcG2lO41K3q4",
        "colab": {
          "base_uri": "https://localhost:8080/"
        },
        "outputId": "d1ec202d-b059-4f43-9424-8cbbdfdffcb1"
      },
      "outputs": [
        {
          "output_type": "stream",
          "name": "stdout",
          "text": [
            "Shape of X_Train : (50000, 576)\n",
            "Shape of X_Test : (10000, 576)\n",
            "Shape of mean of dataset : (576,)\n"
          ]
        }
      ],
      "source": [
        "############### load feature extracted training and testing dataset ##############\n",
        "x_train = np.load('./x_train.npy')\n",
        "x_test = np.load('./x_test.npy')\n",
        "y_train = label_fine\n",
        "y_test = label_fine_test\n",
        "y_train_coarse = label_coarse\n",
        "y_test_coarse = label_coarse_test\n",
        "print(f'Shape of X_Train : {x_train.shape}')\n",
        "print(f'Shape of X_Test : {x_test.shape}')\n",
        "\n",
        "############### Data standardization #################\n",
        "scaler = StandardScaler()\n",
        "# Calculate mean and variance of each feature for further pre-processing\n",
        "scaler.fit(X = x_train) \n",
        "print(f'Shape of mean of dataset : {scaler.mean_.shape}') # (13,)\n",
        "# Standardize data (Centering and Scaling)\n",
        "x_train_standard = scaler.transform(X = x_train)\n",
        "x_test_standard = scaler.transform(X = x_test)\n",
        "\n"
      ]
    },
    {
      "cell_type": "markdown",
      "metadata": {
        "id": "9zlyaLn1tMDM"
      },
      "source": [
        "**Dimensionality Reduction**\n",
        "\n",
        " \n",
        " The main purpose of applying dimensionality reduction is to extract small number of new features(priciple components) that can explain more than 90% of total varience of original data."
      ]
    },
    {
      "cell_type": "code",
      "execution_count": null,
      "metadata": {
        "id": "porzNemitLJX",
        "colab": {
          "base_uri": "https://localhost:8080/",
          "height": 300
        },
        "outputId": "29a84ff6-b6db-4035-90ea-27ee865dd58f"
      },
      "outputs": [
        {
          "output_type": "stream",
          "name": "stdout",
          "text": [
            "Number of priciple components required to achieve 90% of total varience : 157\n"
          ]
        },
        {
          "output_type": "display_data",
          "data": {
            "text/plain": [
              "<Figure size 432x288 with 1 Axes>"
            ],
            "image/png": "[encoded data removed]"
          },
          "metadata": {
            "needs_background": "light"
          }
        }
      ],
      "source": [
        "pca = PCA().fit(X = x_train_standard, y = y_train)\n",
        "singular_values = pca.explained_variance_\n",
        "right_singular_vectors = pca.components_\n",
        "singular_values_normalized = singular_values/sum(singular_values)\n",
        "\n",
        "cum_sum_var = np.cumsum(singular_values_normalized)\n",
        "num_components_90 = bisect_left(cum_sum_var, 0.9) + 1\n",
        "print(f'Number of priciple components required to achieve 90% of total varience : {num_components_90}')\n",
        "\n",
        "plt.figure()\n",
        "plt.scatter(x = range(1, len(singular_values)+1), y = cum_sum_var*100)\n",
        "plt.xlabel(xlabel = \"Number of Principle Components\")\n",
        "plt.ylabel(ylabel = \"Propotion of Varience Explained (PVE)\")\n",
        "plt.ylim([85,100])\n",
        "plt.xlim([100,200])\n",
        "plt.show()\n"
      ]
    },
    {
      "cell_type": "code",
      "execution_count": null,
      "metadata": {
        "id": "mOdcnj3ez5v3",
        "colab": {
          "base_uri": "https://localhost:8080/"
        },
        "outputId": "b5ce6c34-864b-4056-d074-ae9a260928cb"
      },
      "outputs": [
        {
          "output_type": "stream",
          "name": "stdout",
          "text": [
            "(50000, 157)\n"
          ]
        }
      ],
      "source": [
        "x_train_standard_reduced = pca.transform(X = x_train_standard)[:, 0: 157]\n",
        "x_test_standard_reduced = pca.transform(X = x_test_standard)[:, 0: 157]\n",
        "\n",
        "print(x_train_standard_reduced.shape)"
      ]
    },
    {
      "cell_type": "code",
      "source": [
        "################## extract LDA components ######################\n",
        "\"\"\"\n",
        "max(components) = min(features, classes-1)\n",
        "\"\"\"\n",
        "lda = LinearDiscriminantAnalysis(n_components = 99) \n",
        "lda.fit(X = x_train_standard, y = y_train)\n",
        "\n",
        "#################### calculate LDA components ##################\n",
        "x_train_standard_lda = lda.transform(X = x_train_standard)[:, 0: 99]\n",
        "x_test_standard_lda = lda.transform(X = x_test_standard)[:, 0: 99]\n"
      ],
      "metadata": {
        "id": "Hw1t2euVggws"
      },
      "execution_count": null,
      "outputs": []
    },
    {
      "cell_type": "markdown",
      "metadata": {
        "id": "XcXNtFtvnT8Q"
      },
      "source": [
        "**Support Vector Machine**\n",
        "\n",
        "\n",
        "* Features = HoG(Image) = 576\n",
        "\n",
        "* Input = (50000, 576) = (Samples, Features)\n",
        "\n",
        "* Output = (50000, 1)"
      ]
    },
    {
      "cell_type": "code",
      "source": [
        "############################ Kernal selection : K-Fold cross validation ################################\n",
        "def select_kernal(k, candidate_kernels, x_train, y_train, base_model) :\n",
        "\n",
        "  model_fold_accuracy_map = []\n",
        "  skf = StratifiedKFold(n_splits = k)\n",
        "  for (train_index, val_index) in skf.split(X = x_train, y = y_train) :\n",
        "    x_train_i, x_val_i = x_train[train_index], x_train[val_index]\n",
        "    y_train_i, y_val_i = y_train[train_index], y_train[val_index]\n",
        "\n",
        "    kernal_accuracy_i = []\n",
        "    for kernel in candidate_kernels : \n",
        "      clf_param = dict(kernel = kernel)\n",
        "      base_model.set_params(**clf_param)\n",
        "\n",
        "      base_model.fit(X = x_train_i, y = y_train_i) \n",
        "      accuracy = base_model.score(X = x_val_i, y = y_val_i)\n",
        "      kernal_accuracy_i.append(accuracy)\n",
        "    model_fold_accuracy_map.append(kernal_accuracy_i)\n",
        "\n",
        "  model_fold_accuracy_map = np.array(model_fold_accuracy_map)\n",
        "  model_accuracy_list = np.sum(model_fold_accuracy_map, axis = 0)\n",
        "\n",
        "  best_model_index = np.max(model_accuracy_list, axis = 0)\n",
        "  best_kernel = candidate_kernels[best_model_index]\n",
        "\n",
        "  return best_kernel"
      ],
      "metadata": {
        "id": "hz_g67X1VF8b"
      },
      "execution_count": null,
      "outputs": []
    },
    {
      "cell_type": "code",
      "execution_count": null,
      "metadata": {
        "id": "LDsEhqstnTVg",
        "colab": {
          "base_uri": "https://localhost:8080/"
        },
        "outputId": "d2f21a47-402a-4d92-e52d-d17e2591536a"
      },
      "outputs": [
        {
          "output_type": "stream",
          "name": "stdout",
          "text": [
            "0.3958\n"
          ]
        }
      ],
      "source": [
        "################### Support Vector Machine Classifier ::: Coarse Labels #########################\n",
        "svc = SVC(C = 1, kernel = 'rbf') \n",
        "svc.fit(X = x_train_standard, y = y_train_coarse) \n",
        "accuracy = svc.score(X = x_test_standard, y = y_test_coarse)\n",
        "print(accuracy)\n"
      ]
    },
    {
      "cell_type": "code",
      "source": [
        "###################  Support Vector Machine Classifier ::: Fine Labels #########################\n",
        "svc = SVC(C = 1, kernel = 'rbf') \n",
        "svc.fit(X = x_train_standard, y = y_train) \n",
        "accuracy = svc.score(X = x_test_standard, y = y_test)\n",
        "print(accuracy)"
      ],
      "metadata": {
        "colab": {
          "base_uri": "https://localhost:8080/"
        },
        "id": "XvY7b4MpPnvj",
        "outputId": "868d9f6a-5a92-4923-87a9-95937efcd3f8"
      },
      "execution_count": null,
      "outputs": [
        {
          "output_type": "stream",
          "name": "stdout",
          "text": [
            "0.283\n"
          ]
        }
      ]
    },
    {
      "cell_type": "markdown",
      "source": [
        "![image.png](data:image/png;base64,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)"
      ],
      "metadata": {
        "id": "q7_qBW8kZOot"
      }
    },
    {
      "cell_type": "code",
      "source": [
        "################### Tune Support Vector Machine Classifier : Bayesian Optimization #########################\n",
        "from hyperopt import hp\n",
        "from sklearn.model_selection import cross_val_score\n",
        "from hyperopt import fmin, tpe, hp, STATUS_OK, Trials\n",
        "\n",
        "\"\"\"\n",
        "Functionality of logspace\n",
        "* Linearly distributed in log scale\n",
        "* Default base >> 10\n",
        "\"\"\"\n",
        "param_space = {\n",
        "    'C' : hp.choice('C', np.logspace(-1, 1, 3)), \n",
        "    'gamma' : hp.choice('gamma', ['scale','auto'] + np.logspace(-1, 1, 3).tolist()),\n",
        "    'kernel' : hp.choice('kernel', ['rbf', 'poly'])\n",
        "}\n",
        "\n",
        "### define k-fold cross validation for each parameter set ###\n",
        "\"\"\"\n",
        "shuffle = True : Minimize the probability of extracting relationships between datapoints while training\n",
        "\"\"\"\n",
        "kfold = StratifiedKFold(n_splits = 5, shuffle = True, random_state = 0)\n",
        "\n",
        "### define model and tune hyperparameters ###\n",
        "def objective(params) :\n",
        "  svc = SVC(**params)\n",
        "  cross_validation_scores = cross_val_score(estimator = svc, X = x_train_standard, y = y_train_coarse, cv = kfold, scoring = 'accuracy')\n",
        "  best_score = max(cross_validation_scores)\n",
        "  loss = -best_model\n",
        "  return {\n",
        "      'loss' : loss, ## mandotory\n",
        "      'params' : params,\n",
        "      'status' : STATUS_OK ## mondotory\n",
        "  }\n",
        "\n",
        "bayes_trials = Trials() ## Inspect returning values during the experiment (Trace values)\n",
        "best_model = fmin(fn = objective, space = param_space, algo = tpe.suggest, max_evals = 10, trials = bayes_trials) ## TPE(Tree Parzen Estimator) = Bayesian Optimizer\n"
      ],
      "metadata": {
        "colab": {
          "base_uri": "https://localhost:8080/"
        },
        "id": "7usx40j4HGpm",
        "outputId": "1ec1942b-8a0b-4f6e-c383-741bedcbab49"
      },
      "execution_count": null,
      "outputs": [
        {
          "output_type": "stream",
          "name": "stdout",
          "text": [
            "\r  0%|          | 0/10 [00:00<?, ?it/s, best loss: ?]"
          ]
        }
      ]
    },
    {
      "cell_type": "markdown",
      "source": [
        "**Artificial Neural Network**"
      ],
      "metadata": {
        "id": "T_3Xvp4cC3Qa"
      }
    },
    {
      "cell_type": "code",
      "source": [
        "###################  Artificial Neural Network ::: Coarse Labels #########################\n",
        "\"\"\" Define ANN Model \"\"\"\n",
        "\n",
        "model = tf.keras.Sequential()\n",
        "model.add(tf.keras.layers.Dense(400, activation=tf.nn.relu)) # 1st hidden layer : 784 neurons\n",
        "model.add(Dropout(0.10))\n",
        "model.add(tf.keras.layers.Dense(400, activation=tf.nn.relu)) # 1st hidden layer : 784 neurons\n",
        "model.add(Dropout(0.10))\n",
        "model.add(tf.keras.layers.Dense(20, activation=tf.nn.softmax)) # output layer : 3 neurons\n",
        "\n",
        "\"\"\" Compile Model \"\"\"\n",
        "model.compile(optimizer=tf.keras.optimizers.SGD(learning_rate=0.01, momentum=0.9), # Strochastic Gradient Descent\n",
        "              loss=tf.keras.losses.SparseCategoricalCrossentropy(), # Cross Entrophy Function\n",
        "              metrics=tf.keras.metrics.SparseCategoricalAccuracy()) # Consider Model Accuracy\n",
        "\n",
        "\"\"\" Train The Model \"\"\"\n",
        "# history = model.fit(x_train_standard, y_train_coarse, epochs=100, validation_split=0.2, verbose=1)\n",
        "history = model.fit(x = x_train_standard,\n",
        "                    y = y_train_coarse, \n",
        "                    batch_size = 100,\n",
        "                    epochs=8, \n",
        "                    validation_split=0.2, \n",
        "                    verbose=1)\n",
        "\n",
        "\"\"\"  Plot Accuracy And Loss Curves \"\"\"\n",
        "plt.figure(figsize=[10,5])\n",
        "plt.subplot(121)\n",
        "plt.plot(history.history['sparse_categorical_accuracy'])\n",
        "plt.plot(history.history['val_sparse_categorical_accuracy'])\n",
        "plt.xlabel('Epoch')\n",
        "plt.ylabel('Accuracy')\n",
        "plt.legend(['Training Accuracy',\n",
        "           'Validation Accuracy'])\n",
        "plt.title('Accuracy Curves')\n",
        "\n",
        "plt.subplot(122)\n",
        "plt.plot(history.history['loss'])\n",
        "plt.plot(history.history['val_loss'])\n",
        "plt.xlabel('Epoch')\n",
        "plt.ylabel('Loss')\n",
        "plt.legend(['Training Loss',\n",
        "           'Validation Loss'])\n",
        "plt.title('Loss Curves')\n",
        "plt.show()\n",
        "\n",
        "# # Predict labels from trained model\n",
        "# y_hat = model.predict(x_test_mnist_normalized)\n",
        "\n",
        "# \"\"\" Evaluate With Test Datatset \"\"\"\n",
        "#results = model.evaluate(x_test_standard, y_test_coarse)\n",
        "results = model.evaluate(x_test_standard_lda, y_test_coarse)\n",
        "print(f'Test set loss: {results[0]:0.2f}, test set accuracy: {results[1]*100:0.2f}%')\n",
        "\n",
        "# \"\"\" Analyse Training Cureves \"\"\"\n",
        "# print(y_test_mnist)\n",
        "# print(np.argmax(y_hat, axis=1))"
      ],
      "metadata": {
        "id": "eNUOxINYC7pk",
        "colab": {
          "base_uri": "https://localhost:8080/",
          "height": 662
        },
        "outputId": "0aca0738-97b5-42b1-e162-752f6a781704"
      },
      "execution_count": null,
      "outputs": [
        {
          "output_type": "stream",
          "name": "stdout",
          "text": [
            "Epoch 1/8\n",
            "400/400 [==============================] - 8s 17ms/step - loss: 2.4950 - sparse_categorical_accuracy: 0.2402 - val_loss: 2.2734 - val_sparse_categorical_accuracy: 0.3045\n",
            "Epoch 2/8\n",
            "400/400 [==============================] - 5s 12ms/step - loss: 2.1459 - sparse_categorical_accuracy: 0.3399 - val_loss: 2.1633 - val_sparse_categorical_accuracy: 0.3395\n",
            "Epoch 3/8\n",
            "400/400 [==============================] - 5s 12ms/step - loss: 1.9922 - sparse_categorical_accuracy: 0.3861 - val_loss: 2.1202 - val_sparse_categorical_accuracy: 0.3509\n",
            "Epoch 4/8\n",
            "400/400 [==============================] - 4s 11ms/step - loss: 1.8696 - sparse_categorical_accuracy: 0.4230 - val_loss: 2.1090 - val_sparse_categorical_accuracy: 0.3582\n",
            "Epoch 5/8\n",
            "400/400 [==============================] - 5s 12ms/step - loss: 1.7648 - sparse_categorical_accuracy: 0.4527 - val_loss: 2.1113 - val_sparse_categorical_accuracy: 0.3604\n",
            "Epoch 6/8\n",
            "400/400 [==============================] - 5s 11ms/step - loss: 1.6733 - sparse_categorical_accuracy: 0.4780 - val_loss: 2.1032 - val_sparse_categorical_accuracy: 0.3638\n",
            "Epoch 7/8\n",
            "400/400 [==============================] - 5s 12ms/step - loss: 1.5832 - sparse_categorical_accuracy: 0.5034 - val_loss: 2.1188 - val_sparse_categorical_accuracy: 0.3729\n",
            "Epoch 8/8\n",
            "400/400 [==============================] - 5s 13ms/step - loss: 1.5057 - sparse_categorical_accuracy: 0.5275 - val_loss: 2.1250 - val_sparse_categorical_accuracy: 0.3666\n"
          ]
        },
        {
          "output_type": "display_data",
          "data": {
            "text/plain": [
              "<Figure size 720x360 with 2 Axes>"
            ],
            "image/png": "[encoded data removed]"
          },
          "metadata": {
            "needs_background": "light"
          }
        },
        {
          "output_type": "stream",
          "name": "stdout",
          "text": [
            "313/313 [==============================] - 2s 4ms/step - loss: 2.1136 - sparse_categorical_accuracy: 0.3662\n",
            "Test set loss: 2.11, test set accuracy: 36.62%\n"
          ]
        }
      ]
    },
    {
      "cell_type": "code",
      "source": [
        "###################  Tune Artificial Neural Network ::: Bayesian Optimisation ::: Coarse Labels #########################\n",
        "from kerastuner.tuners import BayesianOptimization\n",
        "\n",
        "def build_model(hp):\n",
        "  model = keras.Sequential()\n",
        "\n",
        "  ### Define hyper parameters ###\n",
        "  layers_hp = hp.Int('num_layers', min_value = 2, max_value = 10, step =1 ) ## define number of hiden layers\n",
        "  learning_rate_hp = hp.Choice('learning_rate', [0.01, 0.001])\n",
        "\n",
        "  ### Define the model ###\n",
        "  for i in range(layers_hp):\n",
        "    units_hp = hp.Int('units_in_layer_' + str(i), min_value = 64, max_value = 512, step = 32) ## define number of units in each hiden layers\n",
        "    model.add(layers.Dense(units = units_hp, activation = tf.nn.relu)) ## hiden layers\n",
        "  model.add(layers.Dense(20, activation = tf.nn.softmax)) ## output layer\n",
        "\n",
        "  ### Build the model ###\n",
        "  model.compile(\n",
        "      optimizer = keras.optimizers.SGD( learning_rate = learning_rate_hp),\n",
        "      loss = tf.keras.losses.SparseCategoricalCrossentropy(),\n",
        "      metrics = [tf.keras.metrics.SparseCategoricalAccuracy()])\n",
        "  return model\n",
        "\n",
        "tuner = BayesianOptimization(\n",
        "    build_model,\n",
        "    objective = 'val_sparse_categorical_accuracy',\n",
        "    max_trials = 20,\n",
        "    executions_per_trial = 1,\n",
        "    directory = 'project',\n",
        "    project_name  ='cw2')\n",
        "\n",
        "### print the summary of the tuner >>> retrieve details of hyper parameters defined ###\n",
        "tuner.search_space_summary()\n",
        "\n",
        "tuner.search(x_train_standard, y_train_coarse,epochs = 20, validation_data = (x_test_standard, y_test_coarse))"
      ],
      "metadata": {
        "colab": {
          "base_uri": "https://localhost:8080/"
        },
        "id": "oJoYxDdCmn7V",
        "outputId": "996b91b4-d530-4715-b3fb-c2025fe7ee9d"
      },
      "execution_count": null,
      "outputs": [
        {
          "output_type": "stream",
          "name": "stdout",
          "text": [
            "Trial 15 Complete [00h 02m 06s]\n",
            "val_sparse_categorical_accuracy: 0.3662000000476837\n",
            "\n",
            "Best val_sparse_categorical_accuracy So Far: 0.36730000376701355\n",
            "Total elapsed time: 00h 48m 04s\n",
            "\n",
            "Search: Running Trial #16\n",
            "\n",
            "Value             |Best Value So Far |Hyperparameter\n",
            "2                 |2                 |num_layers\n",
            "0.01              |0.01              |learning_rate\n",
            "512               |512               |units_in_layer_0\n",
            "480               |512               |units_in_layer_1\n",
            "128               |512               |units_in_layer_2\n",
            "512               |512               |units_in_layer_3\n",
            "512               |512               |units_in_layer_4\n",
            "512               |512               |units_in_layer_5\n",
            "512               |512               |units_in_layer_6\n",
            "288               |64                |units_in_layer_7\n",
            "288               |384               |units_in_layer_8\n",
            "64                |64                |units_in_layer_9\n",
            "\n",
            "Epoch 1/20\n",
            "1563/1563 [==============================] - 7s 4ms/step - loss: 2.5161 - sparse_categorical_accuracy: 0.2378 - val_loss: 2.3381 - val_sparse_categorical_accuracy: 0.2891\n",
            "Epoch 2/20\n",
            "1563/1563 [==============================] - 6s 4ms/step - loss: 2.2000 - sparse_categorical_accuracy: 0.3333 - val_loss: 2.2265 - val_sparse_categorical_accuracy: 0.3280\n",
            "Epoch 3/20\n",
            "1563/1563 [==============================] - 7s 4ms/step - loss: 2.0504 - sparse_categorical_accuracy: 0.3757 - val_loss: 2.1723 - val_sparse_categorical_accuracy: 0.3390\n",
            "Epoch 4/20\n",
            "1563/1563 [==============================] - 6s 4ms/step - loss: 1.9337 - sparse_categorical_accuracy: 0.4113 - val_loss: 2.1460 - val_sparse_categorical_accuracy: 0.3457\n",
            "Epoch 5/20\n",
            "1563/1563 [==============================] - 6s 4ms/step - loss: 1.8312 - sparse_categorical_accuracy: 0.4435 - val_loss: 2.1190 - val_sparse_categorical_accuracy: 0.3555\n",
            "Epoch 6/20\n",
            "1563/1563 [==============================] - 6s 4ms/step - loss: 1.7355 - sparse_categorical_accuracy: 0.4718 - val_loss: 2.1052 - val_sparse_categorical_accuracy: 0.3617\n",
            "Epoch 7/20\n",
            "1563/1563 [==============================] - 7s 4ms/step - loss: 1.6440 - sparse_categorical_accuracy: 0.5009 - val_loss: 2.1152 - val_sparse_categorical_accuracy: 0.3604\n",
            "Epoch 8/20\n",
            "1563/1563 [==============================] - 6s 4ms/step - loss: 1.5563 - sparse_categorical_accuracy: 0.5273 - val_loss: 2.1119 - val_sparse_categorical_accuracy: 0.3652\n",
            "Epoch 9/20\n",
            "1563/1563 [==============================] - 6s 4ms/step - loss: 1.4684 - sparse_categorical_accuracy: 0.5547 - val_loss: 2.1255 - val_sparse_categorical_accuracy: 0.3672\n",
            "Epoch 10/20\n",
            "1563/1563 [==============================] - 7s 4ms/step - loss: 1.3815 - sparse_categorical_accuracy: 0.5840 - val_loss: 2.1706 - val_sparse_categorical_accuracy: 0.3641\n",
            "Epoch 11/20\n",
            "1563/1563 [==============================] - 6s 4ms/step - loss: 1.2951 - sparse_categorical_accuracy: 0.6095 - val_loss: 2.1829 - val_sparse_categorical_accuracy: 0.3652\n",
            "Epoch 12/20\n",
            "1563/1563 [==============================] - 6s 4ms/step - loss: 1.2110 - sparse_categorical_accuracy: 0.6358 - val_loss: 2.2395 - val_sparse_categorical_accuracy: 0.3584\n",
            "Epoch 13/20\n",
            "1563/1563 [==============================] - 6s 4ms/step - loss: 1.1276 - sparse_categorical_accuracy: 0.6649 - val_loss: 2.2918 - val_sparse_categorical_accuracy: 0.3575\n",
            "Epoch 14/20\n",
            "1563/1563 [==============================] - 6s 4ms/step - loss: 1.0450 - sparse_categorical_accuracy: 0.6891 - val_loss: 2.3287 - val_sparse_categorical_accuracy: 0.3570\n",
            "Epoch 15/20\n",
            " 189/1563 [==>...........................] - ETA: 4s - loss: 0.9019 - sparse_categorical_accuracy: 0.7535"
          ]
        }
      ]
    },
    {
      "cell_type": "code",
      "source": [
        "# Get the top 2 models.\n",
        "models = tuner.get_best_models(num_models = 2)\n",
        "best_model = models[0]\n",
        "# Build the model.\n",
        "# Needed for `Sequential` without specified `input_shape`.\n",
        "best_model.build(input_shape=(None, 576))\n",
        "best_model.summary()"
      ],
      "metadata": {
        "colab": {
          "base_uri": "https://localhost:8080/"
        },
        "id": "sbP6I3weDEZu",
        "outputId": "27f45fa7-4696-48a5-a050-5f865681a9f4"
      },
      "execution_count": null,
      "outputs": [
        {
          "output_type": "stream",
          "name": "stdout",
          "text": [
            "WARNING:tensorflow:Detecting that an object or model or tf.train.Checkpoint is being deleted with unrestored values. See the following logs for the specific values in question. To silence these warnings, use `status.expect_partial()`. See https://www.tensorflow.org/api_docs/python/tf/train/Checkpoint#restorefor details about the status object returned by the restore function.\n",
            "WARNING:tensorflow:Value in checkpoint could not be found in the restored object: (root).layer_with_weights-0.kernel\n",
            "WARNING:tensorflow:Value in checkpoint could not be found in the restored object: (root).layer_with_weights-0.bias\n",
            "WARNING:tensorflow:Value in checkpoint could not be found in the restored object: (root).layer_with_weights-1.kernel\n",
            "WARNING:tensorflow:Value in checkpoint could not be found in the restored object: (root).layer_with_weights-1.bias\n",
            "WARNING:tensorflow:Value in checkpoint could not be found in the restored object: (root).layer_with_weights-2.kernel\n",
            "WARNING:tensorflow:Value in checkpoint could not be found in the restored object: (root).layer_with_weights-2.bias\n",
            "WARNING:tensorflow:Value in checkpoint could not be found in the restored object: (root).optimizer.iter\n",
            "WARNING:tensorflow:Value in checkpoint could not be found in the restored object: (root).optimizer.decay\n",
            "WARNING:tensorflow:Value in checkpoint could not be found in the restored object: (root).optimizer.learning_rate\n",
            "WARNING:tensorflow:Value in checkpoint could not be found in the restored object: (root).optimizer.momentum\n",
            "Model: \"sequential\"\n",
            "_________________________________________________________________\n",
            " Layer (type)                Output Shape              Param #   \n",
            "=================================================================\n",
            " dense (Dense)               (None, 384)               221568    \n",
            "                                                                 \n",
            " dense_1 (Dense)             (None, 224)               86240     \n",
            "                                                                 \n",
            " dense_2 (Dense)             (None, 20)                4500      \n",
            "                                                                 \n",
            "=================================================================\n",
            "Total params: 312,308\n",
            "Trainable params: 312,308\n",
            "Non-trainable params: 0\n",
            "_________________________________________________________________\n",
            "WARNING:tensorflow:Detecting that an object or model or tf.train.Checkpoint is being deleted with unrestored values. See the following logs for the specific values in question. To silence these warnings, use `status.expect_partial()`. See https://www.tensorflow.org/api_docs/python/tf/train/Checkpoint#restorefor details about the status object returned by the restore function.\n",
            "WARNING:tensorflow:Value in checkpoint could not be found in the restored object: (root).layer_with_weights-0.kernel\n",
            "WARNING:tensorflow:Value in checkpoint could not be found in the restored object: (root).layer_with_weights-0.bias\n",
            "WARNING:tensorflow:Value in checkpoint could not be found in the restored object: (root).layer_with_weights-1.kernel\n",
            "WARNING:tensorflow:Value in checkpoint could not be found in the restored object: (root).layer_with_weights-1.bias\n",
            "WARNING:tensorflow:Value in checkpoint could not be found in the restored object: (root).layer_with_weights-2.kernel\n",
            "WARNING:tensorflow:Value in checkpoint could not be found in the restored object: (root).layer_with_weights-2.bias\n",
            "WARNING:tensorflow:Value in checkpoint could not be found in the restored object: (root).layer_with_weights-3.kernel\n",
            "WARNING:tensorflow:Value in checkpoint could not be found in the restored object: (root).layer_with_weights-3.bias\n",
            "WARNING:tensorflow:Value in checkpoint could not be found in the restored object: (root).layer_with_weights-4.kernel\n",
            "WARNING:tensorflow:Value in checkpoint could not be found in the restored object: (root).layer_with_weights-4.bias\n",
            "WARNING:tensorflow:Value in checkpoint could not be found in the restored object: (root).layer_with_weights-5.kernel\n",
            "WARNING:tensorflow:Value in checkpoint could not be found in the restored object: (root).layer_with_weights-5.bias\n",
            "WARNING:tensorflow:Value in checkpoint could not be found in the restored object: (root).layer_with_weights-6.kernel\n",
            "WARNING:tensorflow:Value in checkpoint could not be found in the restored object: (root).layer_with_weights-6.bias\n",
            "WARNING:tensorflow:Value in checkpoint could not be found in the restored object: (root).layer_with_weights-7.kernel\n",
            "WARNING:tensorflow:Value in checkpoint could not be found in the restored object: (root).layer_with_weights-7.bias\n"
          ]
        }
      ]
    },
    {
      "cell_type": "markdown",
      "metadata": {
        "id": "iNGFNYw7M_kV"
      },
      "source": [
        "**Convolution Neural Network (CNN)**\n",
        "\n",
        "Input = (50000, 32, 32, 3) = (Samples, Height, Width, Channel)\n"
      ]
    },
    {
      "cell_type": "code",
      "execution_count": null,
      "metadata": {
        "id": "90onr0MtHFmS",
        "colab": {
          "base_uri": "https://localhost:8080/",
          "height": 1000
        },
        "outputId": "9f0918f5-3515-48a5-ac86-43105b7ea0ad"
      },
      "outputs": [
        {
          "output_type": "stream",
          "name": "stdout",
          "text": [
            "(50000, 32, 32, 3)\n",
            "(10000, 32, 32, 3)\n",
            "Model: \"sequential_1\"\n",
            "_________________________________________________________________\n",
            " Layer (type)                Output Shape              Param #   \n",
            "=================================================================\n",
            " conv2d_9 (Conv2D)           (None, 32, 32, 128)       1664      \n",
            "                                                                 \n",
            " conv2d_10 (Conv2D)          (None, 32, 32, 128)       65664     \n",
            "                                                                 \n",
            " conv2d_11 (Conv2D)          (None, 32, 32, 128)       65664     \n",
            "                                                                 \n",
            " max_pooling2d_3 (MaxPooling  (None, 16, 16, 128)      0         \n",
            " 2D)                                                             \n",
            "                                                                 \n",
            " conv2d_12 (Conv2D)          (None, 16, 16, 512)       262656    \n",
            "                                                                 \n",
            " conv2d_13 (Conv2D)          (None, 16, 16, 512)       1049088   \n",
            "                                                                 \n",
            " conv2d_14 (Conv2D)          (None, 16, 16, 512)       1049088   \n",
            "                                                                 \n",
            " max_pooling2d_4 (MaxPooling  (None, 8, 8, 512)        0         \n",
            " 2D)                                                             \n",
            "                                                                 \n",
            " conv2d_15 (Conv2D)          (None, 8, 8, 1024)        2098176   \n",
            "                                                                 \n",
            " conv2d_16 (Conv2D)          (None, 8, 8, 1024)        4195328   \n",
            "                                                                 \n",
            " conv2d_17 (Conv2D)          (None, 8, 8, 1024)        4195328   \n",
            "                                                                 \n",
            " max_pooling2d_5 (MaxPooling  (None, 4, 4, 1024)       0         \n",
            " 2D)                                                             \n",
            "                                                                 \n",
            " flatten_1 (Flatten)         (None, 16384)             0         \n",
            "                                                                 \n",
            " dense_3 (Dense)             (None, 1000)              16385000  \n",
            "                                                                 \n",
            " dense_4 (Dense)             (None, 500)               500500    \n",
            "                                                                 \n",
            " dense_5 (Dense)             (None, 20)                10020     \n",
            "                                                                 \n",
            "=================================================================\n",
            "Total params: 29,878,176\n",
            "Trainable params: 29,878,176\n",
            "Non-trainable params: 0\n",
            "_________________________________________________________________\n",
            "Epoch 1/50\n",
            "1250/1250 [==============================] - 274s 217ms/step - loss: 324.5171 - sparse_categorical_accuracy: 0.0482 - val_loss: 2.9997 - val_sparse_categorical_accuracy: 0.0507\n",
            "Epoch 2/50\n",
            "1250/1250 [==============================] - 271s 217ms/step - loss: 2.9979 - sparse_categorical_accuracy: 0.0494 - val_loss: 2.9991 - val_sparse_categorical_accuracy: 0.0456\n",
            "Epoch 3/50\n",
            "1250/1250 [==============================] - 272s 217ms/step - loss: 2.9979 - sparse_categorical_accuracy: 0.0491 - val_loss: 2.9968 - val_sparse_categorical_accuracy: 0.0515\n",
            "Epoch 4/50\n",
            "1250/1250 [==============================] - 271s 217ms/step - loss: 2.9979 - sparse_categorical_accuracy: 0.0483 - val_loss: 2.9977 - val_sparse_categorical_accuracy: 0.0501\n",
            "Epoch 5/50\n",
            "1250/1250 [==============================] - 271s 217ms/step - loss: 2.9975 - sparse_categorical_accuracy: 0.0499 - val_loss: 2.9992 - val_sparse_categorical_accuracy: 0.0518\n",
            "Epoch 6/50\n",
            "1250/1250 [==============================] - 271s 216ms/step - loss: 2.9981 - sparse_categorical_accuracy: 0.0496 - val_loss: 2.9965 - val_sparse_categorical_accuracy: 0.0494\n",
            "Epoch 7/50\n",
            "1250/1250 [==============================] - 271s 216ms/step - loss: 2.9978 - sparse_categorical_accuracy: 0.0506 - val_loss: 2.9984 - val_sparse_categorical_accuracy: 0.0503\n",
            "Epoch 8/50\n",
            "1250/1250 [==============================] - 271s 216ms/step - loss: 2.9980 - sparse_categorical_accuracy: 0.0478 - val_loss: 2.9978 - val_sparse_categorical_accuracy: 0.0531\n",
            "Epoch 9/50\n",
            "1250/1250 [==============================] - 271s 217ms/step - loss: 2.9978 - sparse_categorical_accuracy: 0.0503 - val_loss: 2.9980 - val_sparse_categorical_accuracy: 0.0522\n",
            "Epoch 10/50\n",
            "1250/1250 [==============================] - 271s 217ms/step - loss: 2.9975 - sparse_categorical_accuracy: 0.0507 - val_loss: 2.9997 - val_sparse_categorical_accuracy: 0.0503\n",
            "Epoch 11/50\n",
            "  91/1250 [=>............................] - ETA: 3:53 - loss: 2.9972 - sparse_categorical_accuracy: 0.0512"
          ]
        },
        {
          "output_type": "error",
          "ename": "KeyboardInterrupt",
          "evalue": "ignored",
          "traceback": [
            "\u001b[0;31m---------------------------------------------------------------------------\u001b[0m",
            "\u001b[0;31mKeyboardInterrupt\u001b[0m                         Traceback (most recent call last)",
            "\u001b[0;32m<ipython-input-10-d493a3a3d961>\u001b[0m in \u001b[0;36m<module>\u001b[0;34m()\u001b[0m\n\u001b[1;32m     65\u001b[0m \u001b[0;34m\u001b[0m\u001b[0m\n\u001b[1;32m     66\u001b[0m \u001b[0;31m################# Train The Model ######################\u001b[0m\u001b[0;34m\u001b[0m\u001b[0;34m\u001b[0m\u001b[0;34m\u001b[0m\u001b[0m\n\u001b[0;32m---> 67\u001b[0;31m \u001b[0mhistory\u001b[0m \u001b[0;34m=\u001b[0m \u001b[0mmodel\u001b[0m\u001b[0;34m.\u001b[0m\u001b[0mfit\u001b[0m\u001b[0;34m(\u001b[0m\u001b[0mx_cnn_train_norm\u001b[0m\u001b[0;34m,\u001b[0m \u001b[0my_train_coarse\u001b[0m\u001b[0;34m,\u001b[0m \u001b[0mepochs\u001b[0m\u001b[0;34m=\u001b[0m\u001b[0;36m50\u001b[0m\u001b[0;34m,\u001b[0m \u001b[0mvalidation_split\u001b[0m\u001b[0;34m=\u001b[0m\u001b[0;36m0.2\u001b[0m\u001b[0;34m,\u001b[0m \u001b[0mverbose\u001b[0m\u001b[0;34m=\u001b[0m\u001b[0;36m1\u001b[0m\u001b[0;34m)\u001b[0m\u001b[0;34m\u001b[0m\u001b[0;34m\u001b[0m\u001b[0m\n\u001b[0m\u001b[1;32m     68\u001b[0m \u001b[0;34m\u001b[0m\u001b[0m\n\u001b[1;32m     69\u001b[0m \u001b[0;31m################ Plot Accuracy And Loss Curves ################\u001b[0m\u001b[0;34m\u001b[0m\u001b[0;34m\u001b[0m\u001b[0;34m\u001b[0m\u001b[0m\n",
            "\u001b[0;32m/usr/local/lib/python3.7/dist-packages/keras/utils/traceback_utils.py\u001b[0m in \u001b[0;36merror_handler\u001b[0;34m(*args, **kwargs)\u001b[0m\n\u001b[1;32m     62\u001b[0m     \u001b[0mfiltered_tb\u001b[0m \u001b[0;34m=\u001b[0m \u001b[0;32mNone\u001b[0m\u001b[0;34m\u001b[0m\u001b[0;34m\u001b[0m\u001b[0m\n\u001b[1;32m     63\u001b[0m     \u001b[0;32mtry\u001b[0m\u001b[0;34m:\u001b[0m\u001b[0;34m\u001b[0m\u001b[0;34m\u001b[0m\u001b[0m\n\u001b[0;32m---> 64\u001b[0;31m       \u001b[0;32mreturn\u001b[0m \u001b[0mfn\u001b[0m\u001b[0;34m(\u001b[0m\u001b[0;34m*\u001b[0m\u001b[0margs\u001b[0m\u001b[0;34m,\u001b[0m \u001b[0;34m**\u001b[0m\u001b[0mkwargs\u001b[0m\u001b[0;34m)\u001b[0m\u001b[0;34m\u001b[0m\u001b[0;34m\u001b[0m\u001b[0m\n\u001b[0m\u001b[1;32m     65\u001b[0m     \u001b[0;32mexcept\u001b[0m \u001b[0mException\u001b[0m \u001b[0;32mas\u001b[0m \u001b[0me\u001b[0m\u001b[0;34m:\u001b[0m  \u001b[0;31m# pylint: disable=broad-except\u001b[0m\u001b[0;34m\u001b[0m\u001b[0;34m\u001b[0m\u001b[0m\n\u001b[1;32m     66\u001b[0m       \u001b[0mfiltered_tb\u001b[0m \u001b[0;34m=\u001b[0m \u001b[0m_process_traceback_frames\u001b[0m\u001b[0;34m(\u001b[0m\u001b[0me\u001b[0m\u001b[0;34m.\u001b[0m\u001b[0m__traceback__\u001b[0m\u001b[0;34m)\u001b[0m\u001b[0;34m\u001b[0m\u001b[0;34m\u001b[0m\u001b[0m\n",
            "\u001b[0;32m/usr/local/lib/python3.7/dist-packages/keras/engine/training.py\u001b[0m in \u001b[0;36mfit\u001b[0;34m(self, x, y, batch_size, epochs, verbose, callbacks, validation_split, validation_data, shuffle, class_weight, sample_weight, initial_epoch, steps_per_epoch, validation_steps, validation_batch_size, validation_freq, max_queue_size, workers, use_multiprocessing)\u001b[0m\n\u001b[1;32m   1387\u001b[0m               \u001b[0mlogs\u001b[0m \u001b[0;34m=\u001b[0m \u001b[0mtmp_logs\u001b[0m  \u001b[0;31m# No error, now safe to assign to logs.\u001b[0m\u001b[0;34m\u001b[0m\u001b[0;34m\u001b[0m\u001b[0m\n\u001b[1;32m   1388\u001b[0m               \u001b[0mend_step\u001b[0m \u001b[0;34m=\u001b[0m \u001b[0mstep\u001b[0m \u001b[0;34m+\u001b[0m \u001b[0mdata_handler\u001b[0m\u001b[0;34m.\u001b[0m\u001b[0mstep_increment\u001b[0m\u001b[0;34m\u001b[0m\u001b[0;34m\u001b[0m\u001b[0m\n\u001b[0;32m-> 1389\u001b[0;31m               \u001b[0mcallbacks\u001b[0m\u001b[0;34m.\u001b[0m\u001b[0mon_train_batch_end\u001b[0m\u001b[0;34m(\u001b[0m\u001b[0mend_step\u001b[0m\u001b[0;34m,\u001b[0m \u001b[0mlogs\u001b[0m\u001b[0;34m)\u001b[0m\u001b[0;34m\u001b[0m\u001b[0;34m\u001b[0m\u001b[0m\n\u001b[0m\u001b[1;32m   1390\u001b[0m               \u001b[0;32mif\u001b[0m \u001b[0mself\u001b[0m\u001b[0;34m.\u001b[0m\u001b[0mstop_training\u001b[0m\u001b[0;34m:\u001b[0m\u001b[0;34m\u001b[0m\u001b[0;34m\u001b[0m\u001b[0m\n\u001b[1;32m   1391\u001b[0m                 \u001b[0;32mbreak\u001b[0m\u001b[0;34m\u001b[0m\u001b[0;34m\u001b[0m\u001b[0m\n",
            "\u001b[0;32m/usr/local/lib/python3.7/dist-packages/keras/callbacks.py\u001b[0m in \u001b[0;36mon_train_batch_end\u001b[0;34m(self, batch, logs)\u001b[0m\n\u001b[1;32m    436\u001b[0m     \"\"\"\n\u001b[1;32m    437\u001b[0m     \u001b[0;32mif\u001b[0m \u001b[0mself\u001b[0m\u001b[0;34m.\u001b[0m\u001b[0m_should_call_train_batch_hooks\u001b[0m\u001b[0;34m:\u001b[0m\u001b[0;34m\u001b[0m\u001b[0;34m\u001b[0m\u001b[0m\n\u001b[0;32m--> 438\u001b[0;31m       \u001b[0mself\u001b[0m\u001b[0;34m.\u001b[0m\u001b[0m_call_batch_hook\u001b[0m\u001b[0;34m(\u001b[0m\u001b[0mModeKeys\u001b[0m\u001b[0;34m.\u001b[0m\u001b[0mTRAIN\u001b[0m\u001b[0;34m,\u001b[0m \u001b[0;34m'end'\u001b[0m\u001b[0;34m,\u001b[0m \u001b[0mbatch\u001b[0m\u001b[0;34m,\u001b[0m \u001b[0mlogs\u001b[0m\u001b[0;34m=\u001b[0m\u001b[0mlogs\u001b[0m\u001b[0;34m)\u001b[0m\u001b[0;34m\u001b[0m\u001b[0;34m\u001b[0m\u001b[0m\n\u001b[0m\u001b[1;32m    439\u001b[0m \u001b[0;34m\u001b[0m\u001b[0m\n\u001b[1;32m    440\u001b[0m   \u001b[0;32mdef\u001b[0m \u001b[0mon_test_batch_begin\u001b[0m\u001b[0;34m(\u001b[0m\u001b[0mself\u001b[0m\u001b[0;34m,\u001b[0m \u001b[0mbatch\u001b[0m\u001b[0;34m,\u001b[0m \u001b[0mlogs\u001b[0m\u001b[0;34m=\u001b[0m\u001b[0;32mNone\u001b[0m\u001b[0;34m)\u001b[0m\u001b[0;34m:\u001b[0m\u001b[0;34m\u001b[0m\u001b[0;34m\u001b[0m\u001b[0m\n",
            "\u001b[0;32m/usr/local/lib/python3.7/dist-packages/keras/callbacks.py\u001b[0m in \u001b[0;36m_call_batch_hook\u001b[0;34m(self, mode, hook, batch, logs)\u001b[0m\n\u001b[1;32m    295\u001b[0m       \u001b[0mself\u001b[0m\u001b[0;34m.\u001b[0m\u001b[0m_call_batch_begin_hook\u001b[0m\u001b[0;34m(\u001b[0m\u001b[0mmode\u001b[0m\u001b[0;34m,\u001b[0m \u001b[0mbatch\u001b[0m\u001b[0;34m,\u001b[0m \u001b[0mlogs\u001b[0m\u001b[0;34m)\u001b[0m\u001b[0;34m\u001b[0m\u001b[0;34m\u001b[0m\u001b[0m\n\u001b[1;32m    296\u001b[0m     \u001b[0;32melif\u001b[0m \u001b[0mhook\u001b[0m \u001b[0;34m==\u001b[0m \u001b[0;34m'end'\u001b[0m\u001b[0;34m:\u001b[0m\u001b[0;34m\u001b[0m\u001b[0;34m\u001b[0m\u001b[0m\n\u001b[0;32m--> 297\u001b[0;31m       \u001b[0mself\u001b[0m\u001b[0;34m.\u001b[0m\u001b[0m_call_batch_end_hook\u001b[0m\u001b[0;34m(\u001b[0m\u001b[0mmode\u001b[0m\u001b[0;34m,\u001b[0m \u001b[0mbatch\u001b[0m\u001b[0;34m,\u001b[0m \u001b[0mlogs\u001b[0m\u001b[0;34m)\u001b[0m\u001b[0;34m\u001b[0m\u001b[0;34m\u001b[0m\u001b[0m\n\u001b[0m\u001b[1;32m    298\u001b[0m     \u001b[0;32melse\u001b[0m\u001b[0;34m:\u001b[0m\u001b[0;34m\u001b[0m\u001b[0;34m\u001b[0m\u001b[0m\n\u001b[1;32m    299\u001b[0m       raise ValueError(\n",
            "\u001b[0;32m/usr/local/lib/python3.7/dist-packages/keras/callbacks.py\u001b[0m in \u001b[0;36m_call_batch_end_hook\u001b[0;34m(self, mode, batch, logs)\u001b[0m\n\u001b[1;32m    316\u001b[0m       \u001b[0mself\u001b[0m\u001b[0;34m.\u001b[0m\u001b[0m_batch_times\u001b[0m\u001b[0;34m.\u001b[0m\u001b[0mappend\u001b[0m\u001b[0;34m(\u001b[0m\u001b[0mbatch_time\u001b[0m\u001b[0;34m)\u001b[0m\u001b[0;34m\u001b[0m\u001b[0;34m\u001b[0m\u001b[0m\n\u001b[1;32m    317\u001b[0m \u001b[0;34m\u001b[0m\u001b[0m\n\u001b[0;32m--> 318\u001b[0;31m     \u001b[0mself\u001b[0m\u001b[0;34m.\u001b[0m\u001b[0m_call_batch_hook_helper\u001b[0m\u001b[0;34m(\u001b[0m\u001b[0mhook_name\u001b[0m\u001b[0;34m,\u001b[0m \u001b[0mbatch\u001b[0m\u001b[0;34m,\u001b[0m \u001b[0mlogs\u001b[0m\u001b[0;34m)\u001b[0m\u001b[0;34m\u001b[0m\u001b[0;34m\u001b[0m\u001b[0m\n\u001b[0m\u001b[1;32m    319\u001b[0m \u001b[0;34m\u001b[0m\u001b[0m\n\u001b[1;32m    320\u001b[0m     \u001b[0;32mif\u001b[0m \u001b[0mlen\u001b[0m\u001b[0;34m(\u001b[0m\u001b[0mself\u001b[0m\u001b[0;34m.\u001b[0m\u001b[0m_batch_times\u001b[0m\u001b[0;34m)\u001b[0m \u001b[0;34m>=\u001b[0m \u001b[0mself\u001b[0m\u001b[0;34m.\u001b[0m\u001b[0m_num_batches_for_timing_check\u001b[0m\u001b[0;34m:\u001b[0m\u001b[0;34m\u001b[0m\u001b[0;34m\u001b[0m\u001b[0m\n",
            "\u001b[0;32m/usr/local/lib/python3.7/dist-packages/keras/callbacks.py\u001b[0m in \u001b[0;36m_call_batch_hook_helper\u001b[0;34m(self, hook_name, batch, logs)\u001b[0m\n\u001b[1;32m    354\u001b[0m     \u001b[0;32mfor\u001b[0m \u001b[0mcallback\u001b[0m \u001b[0;32min\u001b[0m \u001b[0mself\u001b[0m\u001b[0;34m.\u001b[0m\u001b[0mcallbacks\u001b[0m\u001b[0;34m:\u001b[0m\u001b[0;34m\u001b[0m\u001b[0;34m\u001b[0m\u001b[0m\n\u001b[1;32m    355\u001b[0m       \u001b[0mhook\u001b[0m \u001b[0;34m=\u001b[0m \u001b[0mgetattr\u001b[0m\u001b[0;34m(\u001b[0m\u001b[0mcallback\u001b[0m\u001b[0;34m,\u001b[0m \u001b[0mhook_name\u001b[0m\u001b[0;34m)\u001b[0m\u001b[0;34m\u001b[0m\u001b[0;34m\u001b[0m\u001b[0m\n\u001b[0;32m--> 356\u001b[0;31m       \u001b[0mhook\u001b[0m\u001b[0;34m(\u001b[0m\u001b[0mbatch\u001b[0m\u001b[0;34m,\u001b[0m \u001b[0mlogs\u001b[0m\u001b[0;34m)\u001b[0m\u001b[0;34m\u001b[0m\u001b[0;34m\u001b[0m\u001b[0m\n\u001b[0m\u001b[1;32m    357\u001b[0m \u001b[0;34m\u001b[0m\u001b[0m\n\u001b[1;32m    358\u001b[0m     \u001b[0;32mif\u001b[0m \u001b[0mself\u001b[0m\u001b[0;34m.\u001b[0m\u001b[0m_check_timing\u001b[0m\u001b[0;34m:\u001b[0m\u001b[0;34m\u001b[0m\u001b[0;34m\u001b[0m\u001b[0m\n",
            "\u001b[0;32m/usr/local/lib/python3.7/dist-packages/keras/callbacks.py\u001b[0m in \u001b[0;36mon_train_batch_end\u001b[0;34m(self, batch, logs)\u001b[0m\n\u001b[1;32m   1032\u001b[0m \u001b[0;34m\u001b[0m\u001b[0m\n\u001b[1;32m   1033\u001b[0m   \u001b[0;32mdef\u001b[0m \u001b[0mon_train_batch_end\u001b[0m\u001b[0;34m(\u001b[0m\u001b[0mself\u001b[0m\u001b[0;34m,\u001b[0m \u001b[0mbatch\u001b[0m\u001b[0;34m,\u001b[0m \u001b[0mlogs\u001b[0m\u001b[0;34m=\u001b[0m\u001b[0;32mNone\u001b[0m\u001b[0;34m)\u001b[0m\u001b[0;34m:\u001b[0m\u001b[0;34m\u001b[0m\u001b[0;34m\u001b[0m\u001b[0m\n\u001b[0;32m-> 1034\u001b[0;31m     \u001b[0mself\u001b[0m\u001b[0;34m.\u001b[0m\u001b[0m_batch_update_progbar\u001b[0m\u001b[0;34m(\u001b[0m\u001b[0mbatch\u001b[0m\u001b[0;34m,\u001b[0m \u001b[0mlogs\u001b[0m\u001b[0;34m)\u001b[0m\u001b[0;34m\u001b[0m\u001b[0;34m\u001b[0m\u001b[0m\n\u001b[0m\u001b[1;32m   1035\u001b[0m \u001b[0;34m\u001b[0m\u001b[0m\n\u001b[1;32m   1036\u001b[0m   \u001b[0;32mdef\u001b[0m \u001b[0mon_test_batch_end\u001b[0m\u001b[0;34m(\u001b[0m\u001b[0mself\u001b[0m\u001b[0;34m,\u001b[0m \u001b[0mbatch\u001b[0m\u001b[0;34m,\u001b[0m \u001b[0mlogs\u001b[0m\u001b[0;34m=\u001b[0m\u001b[0;32mNone\u001b[0m\u001b[0;34m)\u001b[0m\u001b[0;34m:\u001b[0m\u001b[0;34m\u001b[0m\u001b[0;34m\u001b[0m\u001b[0m\n",
            "\u001b[0;32m/usr/local/lib/python3.7/dist-packages/keras/callbacks.py\u001b[0m in \u001b[0;36m_batch_update_progbar\u001b[0;34m(self, batch, logs)\u001b[0m\n\u001b[1;32m   1104\u001b[0m     \u001b[0;32mif\u001b[0m \u001b[0mself\u001b[0m\u001b[0;34m.\u001b[0m\u001b[0mverbose\u001b[0m \u001b[0;34m==\u001b[0m \u001b[0;36m1\u001b[0m\u001b[0;34m:\u001b[0m\u001b[0;34m\u001b[0m\u001b[0;34m\u001b[0m\u001b[0m\n\u001b[1;32m   1105\u001b[0m       \u001b[0;31m# Only block async when verbose = 1.\u001b[0m\u001b[0;34m\u001b[0m\u001b[0;34m\u001b[0m\u001b[0;34m\u001b[0m\u001b[0m\n\u001b[0;32m-> 1106\u001b[0;31m       \u001b[0mlogs\u001b[0m \u001b[0;34m=\u001b[0m \u001b[0mtf_utils\u001b[0m\u001b[0;34m.\u001b[0m\u001b[0msync_to_numpy_or_python_type\u001b[0m\u001b[0;34m(\u001b[0m\u001b[0mlogs\u001b[0m\u001b[0;34m)\u001b[0m\u001b[0;34m\u001b[0m\u001b[0;34m\u001b[0m\u001b[0m\n\u001b[0m\u001b[1;32m   1107\u001b[0m       \u001b[0mself\u001b[0m\u001b[0;34m.\u001b[0m\u001b[0mprogbar\u001b[0m\u001b[0;34m.\u001b[0m\u001b[0mupdate\u001b[0m\u001b[0;34m(\u001b[0m\u001b[0mself\u001b[0m\u001b[0;34m.\u001b[0m\u001b[0mseen\u001b[0m\u001b[0;34m,\u001b[0m \u001b[0mlist\u001b[0m\u001b[0;34m(\u001b[0m\u001b[0mlogs\u001b[0m\u001b[0;34m.\u001b[0m\u001b[0mitems\u001b[0m\u001b[0;34m(\u001b[0m\u001b[0;34m)\u001b[0m\u001b[0;34m)\u001b[0m\u001b[0;34m,\u001b[0m \u001b[0mfinalize\u001b[0m\u001b[0;34m=\u001b[0m\u001b[0;32mFalse\u001b[0m\u001b[0;34m)\u001b[0m\u001b[0;34m\u001b[0m\u001b[0;34m\u001b[0m\u001b[0m\n\u001b[1;32m   1108\u001b[0m \u001b[0;34m\u001b[0m\u001b[0m\n",
            "\u001b[0;32m/usr/local/lib/python3.7/dist-packages/keras/utils/tf_utils.py\u001b[0m in \u001b[0;36msync_to_numpy_or_python_type\u001b[0;34m(tensors)\u001b[0m\n\u001b[1;32m    561\u001b[0m     \u001b[0;32mreturn\u001b[0m \u001b[0mt\u001b[0m\u001b[0;34m.\u001b[0m\u001b[0mitem\u001b[0m\u001b[0;34m(\u001b[0m\u001b[0;34m)\u001b[0m \u001b[0;32mif\u001b[0m \u001b[0mnp\u001b[0m\u001b[0;34m.\u001b[0m\u001b[0mndim\u001b[0m\u001b[0;34m(\u001b[0m\u001b[0mt\u001b[0m\u001b[0;34m)\u001b[0m \u001b[0;34m==\u001b[0m \u001b[0;36m0\u001b[0m \u001b[0;32melse\u001b[0m \u001b[0mt\u001b[0m\u001b[0;34m\u001b[0m\u001b[0;34m\u001b[0m\u001b[0m\n\u001b[1;32m    562\u001b[0m \u001b[0;34m\u001b[0m\u001b[0m\n\u001b[0;32m--> 563\u001b[0;31m   \u001b[0;32mreturn\u001b[0m \u001b[0mtf\u001b[0m\u001b[0;34m.\u001b[0m\u001b[0mnest\u001b[0m\u001b[0;34m.\u001b[0m\u001b[0mmap_structure\u001b[0m\u001b[0;34m(\u001b[0m\u001b[0m_to_single_numpy_or_python_type\u001b[0m\u001b[0;34m,\u001b[0m \u001b[0mtensors\u001b[0m\u001b[0;34m)\u001b[0m\u001b[0;34m\u001b[0m\u001b[0;34m\u001b[0m\u001b[0m\n\u001b[0m\u001b[1;32m    564\u001b[0m \u001b[0;34m\u001b[0m\u001b[0m\n\u001b[1;32m    565\u001b[0m \u001b[0;34m\u001b[0m\u001b[0m\n",
            "\u001b[0;32m/usr/local/lib/python3.7/dist-packages/tensorflow/python/util/nest.py\u001b[0m in \u001b[0;36mmap_structure\u001b[0;34m(func, *structure, **kwargs)\u001b[0m\n\u001b[1;32m    912\u001b[0m \u001b[0;34m\u001b[0m\u001b[0m\n\u001b[1;32m    913\u001b[0m   return pack_sequence_as(\n\u001b[0;32m--> 914\u001b[0;31m       \u001b[0mstructure\u001b[0m\u001b[0;34m[\u001b[0m\u001b[0;36m0\u001b[0m\u001b[0;34m]\u001b[0m\u001b[0;34m,\u001b[0m \u001b[0;34m[\u001b[0m\u001b[0mfunc\u001b[0m\u001b[0;34m(\u001b[0m\u001b[0;34m*\u001b[0m\u001b[0mx\u001b[0m\u001b[0;34m)\u001b[0m \u001b[0;32mfor\u001b[0m \u001b[0mx\u001b[0m \u001b[0;32min\u001b[0m \u001b[0mentries\u001b[0m\u001b[0;34m]\u001b[0m\u001b[0;34m,\u001b[0m\u001b[0;34m\u001b[0m\u001b[0;34m\u001b[0m\u001b[0m\n\u001b[0m\u001b[1;32m    915\u001b[0m       expand_composites=expand_composites)\n\u001b[1;32m    916\u001b[0m \u001b[0;34m\u001b[0m\u001b[0m\n",
            "\u001b[0;32m/usr/local/lib/python3.7/dist-packages/tensorflow/python/util/nest.py\u001b[0m in \u001b[0;36m<listcomp>\u001b[0;34m(.0)\u001b[0m\n\u001b[1;32m    912\u001b[0m \u001b[0;34m\u001b[0m\u001b[0m\n\u001b[1;32m    913\u001b[0m   return pack_sequence_as(\n\u001b[0;32m--> 914\u001b[0;31m       \u001b[0mstructure\u001b[0m\u001b[0;34m[\u001b[0m\u001b[0;36m0\u001b[0m\u001b[0;34m]\u001b[0m\u001b[0;34m,\u001b[0m \u001b[0;34m[\u001b[0m\u001b[0mfunc\u001b[0m\u001b[0;34m(\u001b[0m\u001b[0;34m*\u001b[0m\u001b[0mx\u001b[0m\u001b[0;34m)\u001b[0m \u001b[0;32mfor\u001b[0m \u001b[0mx\u001b[0m \u001b[0;32min\u001b[0m \u001b[0mentries\u001b[0m\u001b[0;34m]\u001b[0m\u001b[0;34m,\u001b[0m\u001b[0;34m\u001b[0m\u001b[0;34m\u001b[0m\u001b[0m\n\u001b[0m\u001b[1;32m    915\u001b[0m       expand_composites=expand_composites)\n\u001b[1;32m    916\u001b[0m \u001b[0;34m\u001b[0m\u001b[0m\n",
            "\u001b[0;32m/usr/local/lib/python3.7/dist-packages/keras/utils/tf_utils.py\u001b[0m in \u001b[0;36m_to_single_numpy_or_python_type\u001b[0;34m(t)\u001b[0m\n\u001b[1;32m    555\u001b[0m     \u001b[0;31m# Don't turn ragged or sparse tensors to NumPy.\u001b[0m\u001b[0;34m\u001b[0m\u001b[0;34m\u001b[0m\u001b[0;34m\u001b[0m\u001b[0m\n\u001b[1;32m    556\u001b[0m     \u001b[0;32mif\u001b[0m \u001b[0misinstance\u001b[0m\u001b[0;34m(\u001b[0m\u001b[0mt\u001b[0m\u001b[0;34m,\u001b[0m \u001b[0mtf\u001b[0m\u001b[0;34m.\u001b[0m\u001b[0mTensor\u001b[0m\u001b[0;34m)\u001b[0m\u001b[0;34m:\u001b[0m\u001b[0;34m\u001b[0m\u001b[0;34m\u001b[0m\u001b[0m\n\u001b[0;32m--> 557\u001b[0;31m       \u001b[0mt\u001b[0m \u001b[0;34m=\u001b[0m \u001b[0mt\u001b[0m\u001b[0;34m.\u001b[0m\u001b[0mnumpy\u001b[0m\u001b[0;34m(\u001b[0m\u001b[0;34m)\u001b[0m\u001b[0;34m\u001b[0m\u001b[0;34m\u001b[0m\u001b[0m\n\u001b[0m\u001b[1;32m    558\u001b[0m     \u001b[0;31m# Strings, ragged and sparse tensors don't have .item(). Return them as-is.\u001b[0m\u001b[0;34m\u001b[0m\u001b[0;34m\u001b[0m\u001b[0;34m\u001b[0m\u001b[0m\n\u001b[1;32m    559\u001b[0m     \u001b[0;32mif\u001b[0m \u001b[0;32mnot\u001b[0m \u001b[0misinstance\u001b[0m\u001b[0;34m(\u001b[0m\u001b[0mt\u001b[0m\u001b[0;34m,\u001b[0m \u001b[0;34m(\u001b[0m\u001b[0mnp\u001b[0m\u001b[0;34m.\u001b[0m\u001b[0mndarray\u001b[0m\u001b[0;34m,\u001b[0m \u001b[0mnp\u001b[0m\u001b[0;34m.\u001b[0m\u001b[0mgeneric\u001b[0m\u001b[0;34m)\u001b[0m\u001b[0;34m)\u001b[0m\u001b[0;34m:\u001b[0m\u001b[0;34m\u001b[0m\u001b[0;34m\u001b[0m\u001b[0m\n",
            "\u001b[0;32m/usr/local/lib/python3.7/dist-packages/tensorflow/python/framework/ops.py\u001b[0m in \u001b[0;36mnumpy\u001b[0;34m(self)\u001b[0m\n\u001b[1;32m   1221\u001b[0m     \"\"\"\n\u001b[1;32m   1222\u001b[0m     \u001b[0;31m# TODO(slebedev): Consider avoiding a copy for non-CPU or remote tensors.\u001b[0m\u001b[0;34m\u001b[0m\u001b[0;34m\u001b[0m\u001b[0;34m\u001b[0m\u001b[0m\n\u001b[0;32m-> 1223\u001b[0;31m     \u001b[0mmaybe_arr\u001b[0m \u001b[0;34m=\u001b[0m \u001b[0mself\u001b[0m\u001b[0;34m.\u001b[0m\u001b[0m_numpy\u001b[0m\u001b[0;34m(\u001b[0m\u001b[0;34m)\u001b[0m  \u001b[0;31m# pylint: disable=protected-access\u001b[0m\u001b[0;34m\u001b[0m\u001b[0;34m\u001b[0m\u001b[0m\n\u001b[0m\u001b[1;32m   1224\u001b[0m     \u001b[0;32mreturn\u001b[0m \u001b[0mmaybe_arr\u001b[0m\u001b[0;34m.\u001b[0m\u001b[0mcopy\u001b[0m\u001b[0;34m(\u001b[0m\u001b[0;34m)\u001b[0m \u001b[0;32mif\u001b[0m \u001b[0misinstance\u001b[0m\u001b[0;34m(\u001b[0m\u001b[0mmaybe_arr\u001b[0m\u001b[0;34m,\u001b[0m \u001b[0mnp\u001b[0m\u001b[0;34m.\u001b[0m\u001b[0mndarray\u001b[0m\u001b[0;34m)\u001b[0m \u001b[0;32melse\u001b[0m \u001b[0mmaybe_arr\u001b[0m\u001b[0;34m\u001b[0m\u001b[0;34m\u001b[0m\u001b[0m\n\u001b[1;32m   1225\u001b[0m \u001b[0;34m\u001b[0m\u001b[0m\n",
            "\u001b[0;32m/usr/local/lib/python3.7/dist-packages/tensorflow/python/framework/ops.py\u001b[0m in \u001b[0;36m_numpy\u001b[0;34m(self)\u001b[0m\n\u001b[1;32m   1187\u001b[0m   \u001b[0;32mdef\u001b[0m \u001b[0m_numpy\u001b[0m\u001b[0;34m(\u001b[0m\u001b[0mself\u001b[0m\u001b[0;34m)\u001b[0m\u001b[0;34m:\u001b[0m\u001b[0;34m\u001b[0m\u001b[0;34m\u001b[0m\u001b[0m\n\u001b[1;32m   1188\u001b[0m     \u001b[0;32mtry\u001b[0m\u001b[0;34m:\u001b[0m\u001b[0;34m\u001b[0m\u001b[0;34m\u001b[0m\u001b[0m\n\u001b[0;32m-> 1189\u001b[0;31m       \u001b[0;32mreturn\u001b[0m \u001b[0mself\u001b[0m\u001b[0;34m.\u001b[0m\u001b[0m_numpy_internal\u001b[0m\u001b[0;34m(\u001b[0m\u001b[0;34m)\u001b[0m\u001b[0;34m\u001b[0m\u001b[0;34m\u001b[0m\u001b[0m\n\u001b[0m\u001b[1;32m   1190\u001b[0m     \u001b[0;32mexcept\u001b[0m \u001b[0mcore\u001b[0m\u001b[0;34m.\u001b[0m\u001b[0m_NotOkStatusException\u001b[0m \u001b[0;32mas\u001b[0m \u001b[0me\u001b[0m\u001b[0;34m:\u001b[0m  \u001b[0;31m# pylint: disable=protected-access\u001b[0m\u001b[0;34m\u001b[0m\u001b[0;34m\u001b[0m\u001b[0m\n\u001b[1;32m   1191\u001b[0m       \u001b[0;32mraise\u001b[0m \u001b[0mcore\u001b[0m\u001b[0;34m.\u001b[0m\u001b[0m_status_to_exception\u001b[0m\u001b[0;34m(\u001b[0m\u001b[0me\u001b[0m\u001b[0;34m)\u001b[0m \u001b[0;32mfrom\u001b[0m \u001b[0;32mNone\u001b[0m  \u001b[0;31m# pylint: disable=protected-access\u001b[0m\u001b[0;34m\u001b[0m\u001b[0;34m\u001b[0m\u001b[0m\n",
            "\u001b[0;31mKeyboardInterrupt\u001b[0m: "
          ]
        }
      ],
      "source": [
        "################### Dimension of X = (S, H, W, C) = (Samples, Height, Width, Channel) ########################\n",
        "x_cnn_train = np.transpose(a = images, axes = (3,0,1,2))\n",
        "x_cnn_test = np.transpose(a = images_test, axes = (3,0,1,2))\n",
        "print(x_cnn_train.shape)\n",
        "print(x_cnn_test.shape)\n",
        "\n",
        "####################### Normalize Pixel Values ############################\n",
        "max_pixel_value = np.max(x_cnn_train)\n",
        "x_cnn_train_norm = x_cnn_train/max_pixel_value\n",
        "x_cnn_test_norm = x_cnn_test/max_pixel_value\n",
        "\n",
        "################### Define Image Sizes ##############################\n",
        "IMAGE_WIDTH = 32 # pixel width of image.\n",
        "IMAGE_HEIGHT = 32 # pixel height of image.\n",
        "IMAGE_CHANNELS = 3 # number of colour channels in images.\n",
        "IMAGE_SHAPE = (IMAGE_WIDTH, IMAGE_HEIGHT, IMAGE_CHANNELS) # shape of image.\n",
        "\n",
        "######## Feature Extraction Layers = Convolutional-Subsampling Pairs (Increase number of feature maps for each subsequent pairs) #########\n",
        "# building a linear stack of layers using a sequential model\n",
        "model = Sequential()\n",
        "\n",
        "## 32 :: 3\n",
        "model.add(Conv2D(64, kernel_size=(2,2), strides=(1,1), padding='same', activation='relu', input_shape = IMAGE_SHAPE))\n",
        "model.add(Conv2D(64, kernel_size=(2,2), strides=(1,1), padding='same', activation='relu'))\n",
        "model.add(Conv2D(64, kernel_size=(2,2), strides=(1,1), padding='same', activation='relu'))\n",
        "model.add(MaxPool2D(pool_size = (2,2), strides=(2,2)))\n",
        "## 16 :: 64\n",
        "\n",
        "## 16 :: 64\n",
        "model.add(Conv2D(128, kernel_size=(2,2), strides=(1,1), padding='same', activation='relu'))\n",
        "model.add(Conv2D(128, kernel_size=(2,2), strides=(1,1), padding='same', activation='relu'))\n",
        "model.add(Conv2D(128, kernel_size=(2,2), strides=(1,1), padding='same', activation='relu'))\n",
        "model.add(MaxPool2D(pool_size = (2,2), strides=(2,2)))\n",
        "# model.add(Dropout(0.15))\n",
        "## 8 :: 128\n",
        "\n",
        "## 8 :: 128\n",
        "model.add(Conv2D(512, kernel_size=(2,2), strides=(1,1), padding='same', activation='relu'))\n",
        "model.add(Conv2D(512, kernel_size=(2,2), strides=(1,1), padding='same', activation='relu'))\n",
        "model.add(Conv2D(512, kernel_size=(2,2), strides=(1,1), padding='same', activation='relu'))\n",
        "model.add(MaxPool2D(pool_size = (2,2), strides=(2,2)))\n",
        "# model.add(Dropout(0.20))\n",
        "## 4 :: 512\n",
        "\n",
        "## 4 :: 512\n",
        "#################### classification layers ############################\n",
        "model.add(Flatten())\n",
        "## (1, 4*4*512)\n",
        "\n",
        "model.add(Dense(512, activation='relu'))\n",
        "model.add(Dense(128, activation='relu'))\n",
        "model.add(Dense(20, activation='softmax'))\n",
        "\n",
        "################### Build the model ######################\n",
        "amd_opt = keras.optimizers.Adam(learning_rate = 0.01)\n",
        "model.compile(optimizer = amd_opt, # Strochastic Gradient Descent\n",
        "              loss=tf.keras.losses.SparseCategoricalCrossentropy(), # Cross Entrophy Function\n",
        "              metrics=tf.keras.metrics.SparseCategoricalAccuracy()) # Consider Model Accuracy\n",
        "\n",
        "################# Print The Summary #################\n",
        "model.summary()\n",
        "\n",
        "################# Train The Model ######################\n",
        "history = model.fit(x_cnn_train_norm, y_train_coarse, epochs=50, validation_split=0.2, verbose=1)\n",
        "\n",
        "################ Plot Accuracy And Loss Curves ################\n",
        "plt.figure(figsize=[10,5])\n",
        "plt.subplot(121)\n",
        "plt.plot(history.history['sparse_categorical_accuracy'])\n",
        "plt.plot(history.history['val_sparse_categorical_accuracy'])\n",
        "plt.xlabel('Epoch')\n",
        "plt.ylabel('Accuracy')\n",
        "plt.legend(['Training Accuracy',\n",
        "           'Validation Accuracy'])\n",
        "plt.title('Accuracy Curves')\n",
        "\n",
        "plt.subplot(122)\n",
        "plt.plot(history.history['loss'])\n",
        "plt.plot(history.history['val_loss'])\n",
        "plt.xlabel('Epoch')\n",
        "plt.ylabel('Loss')\n",
        "plt.legend(['Training Loss',\n",
        "           'Validation Loss'])\n",
        "plt.title('Loss Curves')\n",
        "plt.show()\n",
        "\n",
        "################# Predict labels from trained model ########################\n",
        "\"\"\" output = (10000, 100) \"\"\"\n",
        "# y_hat = model.predict(x_cnn_test_norm) \n",
        "\n",
        "################### Evaluate With Test Datatset ###########################\n",
        "# results = model.evaluate(x_cnn_test_norm, y_test)\n",
        "# print(f'Test set loss: {results[0]:0.2f}, test set accuracy: {results[1]*100:0.2f}%')\n",
        "\n",
        "################### Analyse Training Cureves ########################\n",
        "# print(y_test)\n",
        "# print(np.argmax(y_hat, axis=1))"
      ]
    },
    {
      "cell_type": "code",
      "source": [
        "###################  Tune Artificial Neural Network ::: Bayesian Optimisation ::: Coarse Labels #########################\n",
        "from kerastuner.tuners import BayesianOptimization\n",
        "\n",
        "def build_model(hp):\n",
        "  model = keras.Sequential()\n",
        "\n",
        "  ### Define hyper parameters ###\n",
        "  vgg_block_hp = hp.Int('num_vgg_blocks', min_value = 2, max_value = 16, step =1) ## define number of vgg blocks\n",
        "  cnn_filters_hp = hp.Int('num_filters', min_value = 64, max_value = 4096, step = 64) ## define number of filters in each cnn layer\n",
        "  learning_rate_hp = hp.Choice('learning_rate', [0.01, 0.001])\n",
        "\n",
        "  ### Define the model ###\n",
        "  for i in range(vgg_block_hp):\n",
        "    cnn_layers_hp = hp.Int('cnn_in_vgg_' + str(i), min_value = 2, max_value = 3, step = 1) ## define number of cnn layers in each vgg block\n",
        "    for cnn_layer_index in range(cnn_layers_hp) :\n",
        "      model.add(Conv2D(cnn_filters_hp, kernel_size=(2,2), strides=(1,1), padding='same', activation='relu'))\n",
        "    model.add(MaxPool2D(pool_size = (2,2), strides=(2,2)))\n",
        "\n",
        "  #################### classification layers ############################\n",
        "  model.add(Flatten())\n",
        "  model.add(Dense(512, activation='relu'))\n",
        "  model.add(Dense(128, activation='relu'))\n",
        "  model.add(Dense(20, activation='softmax'))\n",
        "\n",
        "  ### Build the model ###\n",
        "  model.compile(\n",
        "      optimizer = keras.optimizers.SGD( learning_rate = learning_rate_hp),\n",
        "      loss = tf.keras.losses.SparseCategoricalCrossentropy(),\n",
        "      metrics = [tf.keras.metrics.SparseCategoricalAccuracy()])\n",
        "  return model\n",
        "\n",
        "tuner = BayesianOptimization(\n",
        "    build_model,\n",
        "    objective = 'val_sparse_categorical_accuracy',\n",
        "    max_trials = 20,\n",
        "    executions_per_trial = 1,\n",
        "    directory = 'project',\n",
        "    project_name  ='cw2')\n",
        "\n",
        "### print the summary of the tuner >>> retrieve details of hyper parameters defined ###\n",
        "tuner.search_space_summary()\n",
        "\n",
        "tuner.search(x_train_standard, y_train_coarse,epochs = 20, validation_data = (x_test_standard, y_test_coarse))"
      ],
      "metadata": {
        "id": "10qHWrlh8n4J"
      },
      "execution_count": null,
      "outputs": []
    },
    {
      "cell_type": "markdown",
      "source": [
        "**Transfer Learning With VGG-16**\n",
        "\n",
        "\n",
        "how-to-develop-a-cnn-from-scratch-for-cifar-10-photo-classification/\n",
        "\n",
        "![vgg-16.png](data:image/png;base64,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)"
      ],
      "metadata": {
        "id": "62BcqfQhbUVg"
      }
    },
    {
      "cell_type": "code",
      "source": [
        "############################## Transfer Learning : Coarse Labels ######################################\n",
        "import tensorflow as tf\n",
        "from keras.layers import Input, Lambda, Dense, Flatten\n",
        "from keras.models import Model\n",
        "from keras.applications.vgg16 import VGG16\n",
        "from keras.applications.vgg16 import preprocess_input\n",
        "from keras.preprocessing import image\n",
        "from keras.preprocessing.image import ImageDataGenerator\n",
        "from keras.models import Sequential\n",
        "import numpy as np\n",
        "\n",
        "################### pre-process images ######################################\n",
        "x_cnn_train = np.transpose(a = images, axes = (3,0,1,2))\n",
        "x_cnn_test = np.transpose(a = images_test, axes = (3,0,1,2))\n",
        "print(x_cnn_train.shape)\n",
        "print(x_cnn_test.shape)\n",
        "\n",
        "####################### Normalize Pixel Values ############################\n",
        "max_pixel_value = np.max(x_cnn_train)\n",
        "x_cnn_train_norm = x_cnn_train/max_pixel_value\n",
        "x_cnn_test_norm = x_cnn_test/max_pixel_value\n",
        "\n",
        "\n",
        "####################### define transfer learning base model #################\n",
        "INPUT_IMAGE_SIZE = [32, 32, 3]\n",
        "\n",
        "vgg_16 = VGG16(\n",
        "    include_top = False, #### remove top(Dense) layers \n",
        "    weights = \"imagenet\",\n",
        "    input_shape = INPUT_IMAGE_SIZE\n",
        ")\n",
        "vgg_16.trainable = False #### avoid retrain the feature extraction layers\n",
        "\n",
        "########### feature extraction layers ###############\n",
        "model = Sequential()\n",
        "model.add(vgg_16)\n",
        "\n",
        "########### classification layers ##################\n",
        "model.add(Flatten())\n",
        "model.add(Dense(200, activation='relu'))\n",
        "model.add(Dense(20, activation='softmax'))\n",
        "\n",
        "################### Build the model ######################\n",
        "model.compile(optimizer=tf.keras.optimizers.SGD(), # Strochastic Gradient Descent\n",
        "              loss=tf.keras.losses.SparseCategoricalCrossentropy(), # Cross Entrophy Function\n",
        "              metrics=tf.keras.metrics.SparseCategoricalAccuracy()) # Consider Model Accuracy\n",
        "\n",
        "################# Print The Summary #################\n",
        "model.summary()\n",
        "\n",
        "################# Train The Model ######################\n",
        "history = model.fit(x_cnn_train_norm, y_train_coarse, epochs=20, validation_split=0.2, verbose=1)\n",
        "\n",
        "################ Plot Accuracy And Loss Curves ################\n",
        "plt.figure(figsize=[10,5])\n",
        "plt.subplot(121)\n",
        "plt.plot(history.history['sparse_categorical_accuracy'])\n",
        "plt.plot(history.history['val_sparse_categorical_accuracy'])\n",
        "plt.xlabel('Epoch')\n",
        "plt.ylabel('Accuracy')\n",
        "plt.legend(['Training Accuracy',\n",
        "           'Validation Accuracy'])\n",
        "plt.title('Accuracy Curves')\n",
        "\n",
        "plt.subplot(122)\n",
        "plt.plot(history.history['loss'])\n",
        "plt.plot(history.history['val_loss'])\n",
        "plt.xlabel('Epoch')\n",
        "plt.ylabel('Loss')\n",
        "plt.legend(['Training Loss',\n",
        "           'Validation Loss'])\n",
        "plt.title('Loss Curves')\n",
        "plt.show()\n",
        "\n",
        "################### Evaluate With Test Datatset ###########################\n",
        "results = model.evaluate(x_cnn_test_norm, y_test_coarse)\n",
        "print(f'Test set loss: {results[0]:0.2f}, test set accuracy: {results[1]*100:0.2f}%')"
      ],
      "metadata": {
        "colab": {
          "base_uri": "https://localhost:8080/",
          "height": 1000
        },
        "id": "f4upbVlQOszJ",
        "outputId": "abc2452b-a1a9-4157-d5bc-07a95f19ce4a"
      },
      "execution_count": null,
      "outputs": [
        {
          "output_type": "stream",
          "name": "stdout",
          "text": [
            "(50000, 32, 32, 3)\n",
            "(10000, 32, 32, 3)\n",
            "Model: \"sequential_1\"\n",
            "_________________________________________________________________\n",
            " Layer (type)                Output Shape              Param #   \n",
            "=================================================================\n",
            " vgg16 (Functional)          (None, 1, 1, 512)         14714688  \n",
            "                                                                 \n",
            " flatten_1 (Flatten)         (None, 512)               0         \n",
            "                                                                 \n",
            " dense_2 (Dense)             (None, 200)               102600    \n",
            "                                                                 \n",
            " dense_3 (Dense)             (None, 20)                4020      \n",
            "                                                                 \n",
            "=================================================================\n",
            "Total params: 14,821,308\n",
            "Trainable params: 106,620\n",
            "Non-trainable params: 14,714,688\n",
            "_________________________________________________________________\n",
            "Epoch 1/20\n",
            "1250/1250 [==============================] - 29s 23ms/step - loss: 2.4917 - sparse_categorical_accuracy: 0.2475 - val_loss: 2.2466 - val_sparse_categorical_accuracy: 0.3178\n",
            "Epoch 2/20\n",
            "1250/1250 [==============================] - 28s 23ms/step - loss: 2.1551 - sparse_categorical_accuracy: 0.3335 - val_loss: 2.0983 - val_sparse_categorical_accuracy: 0.3543\n",
            "Epoch 3/20\n",
            "1250/1250 [==============================] - 28s 23ms/step - loss: 2.0547 - sparse_categorical_accuracy: 0.3644 - val_loss: 2.0331 - val_sparse_categorical_accuracy: 0.3685\n",
            "Epoch 4/20\n",
            "1250/1250 [==============================] - 29s 24ms/step - loss: 1.9949 - sparse_categorical_accuracy: 0.3812 - val_loss: 1.9828 - val_sparse_categorical_accuracy: 0.3867\n",
            "Epoch 5/20\n",
            "1250/1250 [==============================] - 28s 23ms/step - loss: 1.9525 - sparse_categorical_accuracy: 0.3951 - val_loss: 1.9522 - val_sparse_categorical_accuracy: 0.3942\n",
            "Epoch 6/20\n",
            "1250/1250 [==============================] - 28s 23ms/step - loss: 1.9202 - sparse_categorical_accuracy: 0.4045 - val_loss: 1.9223 - val_sparse_categorical_accuracy: 0.4062\n",
            "Epoch 7/20\n",
            "1250/1250 [==============================] - 28s 23ms/step - loss: 1.8940 - sparse_categorical_accuracy: 0.4123 - val_loss: 1.8969 - val_sparse_categorical_accuracy: 0.4111\n",
            "Epoch 8/20\n",
            "1250/1250 [==============================] - 28s 22ms/step - loss: 1.8721 - sparse_categorical_accuracy: 0.4193 - val_loss: 1.8851 - val_sparse_categorical_accuracy: 0.4155\n",
            "Epoch 9/20\n",
            "1250/1250 [==============================] - 28s 23ms/step - loss: 1.8525 - sparse_categorical_accuracy: 0.4253 - val_loss: 1.8710 - val_sparse_categorical_accuracy: 0.4141\n",
            "Epoch 10/20\n",
            "1250/1250 [==============================] - 28s 23ms/step - loss: 1.8363 - sparse_categorical_accuracy: 0.4284 - val_loss: 1.8656 - val_sparse_categorical_accuracy: 0.4186\n",
            "Epoch 11/20\n",
            "1250/1250 [==============================] - 28s 23ms/step - loss: 1.8213 - sparse_categorical_accuracy: 0.4334 - val_loss: 1.8467 - val_sparse_categorical_accuracy: 0.4288\n",
            "Epoch 12/20\n",
            "1250/1250 [==============================] - 28s 23ms/step - loss: 1.8085 - sparse_categorical_accuracy: 0.4360 - val_loss: 1.8268 - val_sparse_categorical_accuracy: 0.4311\n",
            "Epoch 13/20\n",
            "1250/1250 [==============================] - 28s 23ms/step - loss: 1.7965 - sparse_categorical_accuracy: 0.4424 - val_loss: 1.8241 - val_sparse_categorical_accuracy: 0.4348\n",
            "Epoch 14/20\n",
            "1250/1250 [==============================] - 28s 23ms/step - loss: 1.7843 - sparse_categorical_accuracy: 0.4447 - val_loss: 1.8276 - val_sparse_categorical_accuracy: 0.4299\n",
            "Epoch 15/20\n",
            "1250/1250 [==============================] - 28s 23ms/step - loss: 1.7724 - sparse_categorical_accuracy: 0.4472 - val_loss: 1.8268 - val_sparse_categorical_accuracy: 0.4292\n",
            "Epoch 16/20\n",
            "1250/1250 [==============================] - 28s 23ms/step - loss: 1.7620 - sparse_categorical_accuracy: 0.4527 - val_loss: 1.8064 - val_sparse_categorical_accuracy: 0.4377\n",
            "Epoch 17/20\n",
            "1250/1250 [==============================] - 29s 23ms/step - loss: 1.7536 - sparse_categorical_accuracy: 0.4524 - val_loss: 1.7935 - val_sparse_categorical_accuracy: 0.4458\n",
            "Epoch 18/20\n",
            "1250/1250 [==============================] - 28s 23ms/step - loss: 1.7443 - sparse_categorical_accuracy: 0.4561 - val_loss: 1.8205 - val_sparse_categorical_accuracy: 0.4303\n",
            "Epoch 19/20\n",
            "1250/1250 [==============================] - 28s 23ms/step - loss: 1.7358 - sparse_categorical_accuracy: 0.4595 - val_loss: 1.7968 - val_sparse_categorical_accuracy: 0.4432\n",
            "Epoch 20/20\n",
            "1250/1250 [==============================] - 28s 23ms/step - loss: 1.7274 - sparse_categorical_accuracy: 0.4607 - val_loss: 1.7761 - val_sparse_categorical_accuracy: 0.4521\n"
          ]
        },
        {
          "output_type": "display_data",
          "data": {
            "text/plain": [
              "<Figure size 720x360 with 2 Axes>"
            ],
            "image/png": "[encoded data removed]"
          },
          "metadata": {
            "needs_background": "light"
          }
        },
        {
          "output_type": "stream",
          "name": "stdout",
          "text": [
            "313/313 [==============================] - 6s 19ms/step - loss: 1.7776 - sparse_categorical_accuracy: 0.4435\n",
            "Test set loss: 1.78, test set accuracy: 44.35%\n"
          ]
        }
      ]
    },
    {
      "cell_type": "code",
      "source": [
        "############################## Transfer Learning : Fine Labels ######################################\n",
        "import tensorflow as tf\n",
        "from keras.layers import Input, Lambda, Dense, Flatten\n",
        "from keras.models import Model\n",
        "from keras.applications.vgg16 import VGG16\n",
        "from keras.applications.vgg16 import preprocess_input\n",
        "from keras.preprocessing import image\n",
        "from keras.preprocessing.image import ImageDataGenerator\n",
        "from keras.models import Sequential\n",
        "import numpy as np\n",
        "\n",
        "################### pre-process images ######################################\n",
        "x_cnn_train = np.transpose(a = images, axes = (3,0,1,2))\n",
        "x_cnn_test = np.transpose(a = images_test, axes = (3,0,1,2))\n",
        "print(x_cnn_train.shape)\n",
        "print(x_cnn_test.shape)\n",
        "\n",
        "####################### Normalize Pixel Values ############################\n",
        "max_pixel_value = np.max(x_cnn_train)\n",
        "x_cnn_train_norm = x_cnn_train/max_pixel_value\n",
        "x_cnn_test_norm = x_cnn_test/max_pixel_value\n",
        "\n",
        "\n",
        "####################### define transfer learning base model #################\n",
        "INPUT_IMAGE_SIZE = [32, 32, 3]\n",
        "\n",
        "vgg_16 = VGG16(\n",
        "    include_top = False, #### remove top(Dense) layers \n",
        "    weights = \"imagenet\",\n",
        "    input_shape = INPUT_IMAGE_SIZE\n",
        ")\n",
        "vgg_16.trainable = False #### avoid retrain the feature extraction layers\n",
        "\n",
        "########### feature extraction layers ###############\n",
        "model = Sequential()\n",
        "model.add(vgg_16)\n",
        "\n",
        "########### classification layers ##################\n",
        "model.add(Flatten())\n",
        "model.add(Dense(200, activation='relu'))\n",
        "model.add(Dense(100, activation='softmax'))\n",
        "\n",
        "################### Build the model ######################\n",
        "model.compile(optimizer=tf.keras.optimizers.SGD(), # Strochastic Gradient Descent\n",
        "              loss=tf.keras.losses.SparseCategoricalCrossentropy(), # Cross Entrophy Function\n",
        "              metrics=tf.keras.metrics.SparseCategoricalAccuracy()) # Consider Model Accuracy\n",
        "\n",
        "################# Print The Summary #################\n",
        "model.summary()\n",
        "\n",
        "################# Train The Model ######################\n",
        "history = model.fit(x_cnn_train_norm, y_train, epochs=20, validation_split=0.2, verbose=1)\n",
        "\n",
        "################ Plot Accuracy And Loss Curves ################\n",
        "plt.figure(figsize=[10,5])\n",
        "plt.subplot(121)\n",
        "plt.plot(history.history['sparse_categorical_accuracy'])\n",
        "plt.plot(history.history['val_sparse_categorical_accuracy'])\n",
        "plt.xlabel('Epoch')\n",
        "plt.ylabel('Accuracy')\n",
        "plt.legend(['Training Accuracy',\n",
        "           'Validation Accuracy'])\n",
        "plt.title('Accuracy Curves')\n",
        "\n",
        "plt.subplot(122)\n",
        "plt.plot(history.history['loss'])\n",
        "plt.plot(history.history['val_loss'])\n",
        "plt.xlabel('Epoch')\n",
        "plt.ylabel('Loss')\n",
        "plt.legend(['Training Loss',\n",
        "           'Validation Loss'])\n",
        "plt.title('Loss Curves')\n",
        "plt.show()\n",
        "\n",
        "################### Evaluate With Test Datatset ###########################\n",
        "results = model.evaluate(x_cnn_test_norm, y_test)\n",
        "print(f'Test set loss: {results[0]:0.2f}, test set accuracy: {results[1]*100:0.2f}%')"
      ],
      "metadata": {
        "colab": {
          "base_uri": "https://localhost:8080/",
          "height": 1000
        },
        "id": "M7jz2F--BV5L",
        "outputId": "560c61d3-9881-4e55-fb6f-524cfd38120e"
      },
      "execution_count": null,
      "outputs": [
        {
          "output_type": "stream",
          "name": "stdout",
          "text": [
            "(50000, 32, 32, 3)\n",
            "(10000, 32, 32, 3)\n",
            "Model: \"sequential_2\"\n",
            "_________________________________________________________________\n",
            " Layer (type)                Output Shape              Param #   \n",
            "=================================================================\n",
            " vgg16 (Functional)          (None, 1, 1, 512)         14714688  \n",
            "                                                                 \n",
            " flatten_2 (Flatten)         (None, 512)               0         \n",
            "                                                                 \n",
            " dense_4 (Dense)             (None, 200)               102600    \n",
            "                                                                 \n",
            " dense_5 (Dense)             (None, 100)               20100     \n",
            "                                                                 \n",
            "=================================================================\n",
            "Total params: 14,837,388\n",
            "Trainable params: 122,700\n",
            "Non-trainable params: 14,714,688\n",
            "_________________________________________________________________\n",
            "Epoch 1/20\n",
            "1250/1250 [==============================] - 31s 24ms/step - loss: 4.3691 - sparse_categorical_accuracy: 0.0643 - val_loss: 4.0893 - val_sparse_categorical_accuracy: 0.1119\n",
            "Epoch 2/20\n",
            "1250/1250 [==============================] - 28s 23ms/step - loss: 3.8300 - sparse_categorical_accuracy: 0.1432 - val_loss: 3.6581 - val_sparse_categorical_accuracy: 0.1695\n",
            "Epoch 3/20\n",
            "1250/1250 [==============================] - 29s 23ms/step - loss: 3.5015 - sparse_categorical_accuracy: 0.1884 - val_loss: 3.4277 - val_sparse_categorical_accuracy: 0.2013\n",
            "Epoch 4/20\n",
            "1250/1250 [==============================] - 29s 23ms/step - loss: 3.3182 - sparse_categorical_accuracy: 0.2151 - val_loss: 3.2882 - val_sparse_categorical_accuracy: 0.2190\n",
            "Epoch 5/20\n",
            "1250/1250 [==============================] - 29s 23ms/step - loss: 3.1955 - sparse_categorical_accuracy: 0.2324 - val_loss: 3.2014 - val_sparse_categorical_accuracy: 0.2292\n",
            "Epoch 6/20\n",
            "1250/1250 [==============================] - 29s 23ms/step - loss: 3.1080 - sparse_categorical_accuracy: 0.2488 - val_loss: 3.1258 - val_sparse_categorical_accuracy: 0.2434\n",
            "Epoch 7/20\n",
            "1250/1250 [==============================] - 29s 23ms/step - loss: 3.0410 - sparse_categorical_accuracy: 0.2599 - val_loss: 3.0751 - val_sparse_categorical_accuracy: 0.2502\n",
            "Epoch 8/20\n",
            "1250/1250 [==============================] - 29s 23ms/step - loss: 2.9856 - sparse_categorical_accuracy: 0.2708 - val_loss: 3.0224 - val_sparse_categorical_accuracy: 0.2655\n",
            "Epoch 9/20\n",
            "1250/1250 [==============================] - 31s 25ms/step - loss: 2.9394 - sparse_categorical_accuracy: 0.2782 - val_loss: 2.9893 - val_sparse_categorical_accuracy: 0.2679\n",
            "Epoch 10/20\n",
            "1250/1250 [==============================] - 28s 23ms/step - loss: 2.8987 - sparse_categorical_accuracy: 0.2865 - val_loss: 2.9597 - val_sparse_categorical_accuracy: 0.2744\n",
            "Epoch 11/20\n",
            "1250/1250 [==============================] - 28s 23ms/step - loss: 2.8644 - sparse_categorical_accuracy: 0.2929 - val_loss: 2.9363 - val_sparse_categorical_accuracy: 0.2776\n",
            "Epoch 12/20\n",
            "1250/1250 [==============================] - 29s 23ms/step - loss: 2.8325 - sparse_categorical_accuracy: 0.2993 - val_loss: 2.9136 - val_sparse_categorical_accuracy: 0.2854\n",
            "Epoch 13/20\n",
            "1250/1250 [==============================] - 29s 23ms/step - loss: 2.8045 - sparse_categorical_accuracy: 0.3042 - val_loss: 2.8816 - val_sparse_categorical_accuracy: 0.2916\n",
            "Epoch 14/20\n",
            "1250/1250 [==============================] - 29s 23ms/step - loss: 2.7800 - sparse_categorical_accuracy: 0.3105 - val_loss: 2.8665 - val_sparse_categorical_accuracy: 0.2955\n",
            "Epoch 15/20\n",
            "1250/1250 [==============================] - 29s 23ms/step - loss: 2.7561 - sparse_categorical_accuracy: 0.3148 - val_loss: 2.8553 - val_sparse_categorical_accuracy: 0.2977\n",
            "Epoch 16/20\n",
            "1250/1250 [==============================] - 28s 23ms/step - loss: 2.7344 - sparse_categorical_accuracy: 0.3165 - val_loss: 2.8411 - val_sparse_categorical_accuracy: 0.2971\n",
            "Epoch 17/20\n",
            "1250/1250 [==============================] - 28s 23ms/step - loss: 2.7139 - sparse_categorical_accuracy: 0.3214 - val_loss: 2.8220 - val_sparse_categorical_accuracy: 0.3016\n",
            "Epoch 18/20\n",
            "1250/1250 [==============================] - 29s 23ms/step - loss: 2.6965 - sparse_categorical_accuracy: 0.3246 - val_loss: 2.8189 - val_sparse_categorical_accuracy: 0.3055\n",
            "Epoch 19/20\n",
            "1250/1250 [==============================] - 33s 26ms/step - loss: 2.6786 - sparse_categorical_accuracy: 0.3313 - val_loss: 2.7899 - val_sparse_categorical_accuracy: 0.3092\n",
            "Epoch 20/20\n",
            "1250/1250 [==============================] - 28s 23ms/step - loss: 2.6623 - sparse_categorical_accuracy: 0.3339 - val_loss: 2.7852 - val_sparse_categorical_accuracy: 0.3093\n"
          ]
        },
        {
          "output_type": "display_data",
          "data": {
            "text/plain": [
              "<Figure size 720x360 with 2 Axes>"
            ],
            "image/png": "[encoded data removed]"
          },
          "metadata": {
            "needs_background": "light"
          }
        },
        {
          "output_type": "stream",
          "name": "stdout",
          "text": [
            "313/313 [==============================] - 6s 19ms/step - loss: 2.7517 - sparse_categorical_accuracy: 0.3152\n",
            "Test set loss: 2.75, test set accuracy: 31.52%\n"
          ]
        }
      ]
    },
    {
      "cell_type": "markdown",
      "source": [
        "**References**\n",
        "\n",
        "https://keras.io/guides/keras_tuner/getting_started/\n",
        "\n",
        "http://hyperopt.github.io/hyperopt/getting-started/minimizing_functions/\n",
        "\n",
        "https://towardsdatascience.com/a-conceptual-explanation-of-bayesian-model-based-hyperparameter-optimization-for-machine-learning-b8172278050f\n",
        "\n",
        "https://www.sparknotes.com/math/precalc/exponentialandlogarithmicfunctions/section2/\n",
        "\n",
        "https://d2l.ai/chapter_convolutional-modern/vgg.html\n",
        "https://machinelearningmastery.com/\n",
        "\n",
        "**Need to study**\n",
        "* Random Optimisation\n",
        "* Basian Optimisation\n",
        "* Gamma\n",
        "* Logspace"
      ],
      "metadata": {
        "id": "VeHZfh-NLvC6"
      }
    }
  ],
  "metadata": {
    "colab": {
      "collapsed_sections": [],
      "name": "Coursework.ipynb",
      "provenance": [],
      "authorship_tag": "ABX9TyOXl9U05qHXN2R/yzdqHn33",
      "include_colab_link": true
    },
    "kernelspec": {
      "display_name": "Python 3",
      "name": "python3"
    },
    "language_info": {
      "name": "python"
    },
    "accelerator": "GPU"
  },
  "nbformat": 4,
  "nbformat_minor": 0
}